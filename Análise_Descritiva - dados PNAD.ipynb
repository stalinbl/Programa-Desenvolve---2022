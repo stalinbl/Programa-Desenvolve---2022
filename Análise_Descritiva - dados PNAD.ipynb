{
 "cells": [
  {
   "cell_type": "markdown",
   "metadata": {
    "colab_type": "text",
    "id": "WvMflodMjQKe"
   },
   "source": [
    "***\n",
    "# <font color=green size=10>CURSO DE ESTATÍSTICA - PARTE 1</font>\n",
    "***\n",
    "\n",
    "## Trabalho de Análise Descritiva de um Conjunto de Dados\n",
    "\n",
    "Utilizando os conhecimentos adquiridos em nosso treinamento realize uma análise descritiva básica de um conjunto de dados retirados da Pesquisa Nacional por Amostra de Domicílios - 2015 do IBGE. \n",
    "\n",
    "Vamos construir histogramas, calcular e avaliar medidas de tendência central, medidas separatrizes e de dispersão dos dados.\n",
    "\n",
    "Siga o roteiro proposto e vá completando as células vazias. Procure pensar em mais informações interessantes que podem ser exploradas em nosso dataset."
   ]
  },
  {
   "cell_type": "markdown",
   "metadata": {
    "colab_type": "text",
    "id": "cVgsZ_E3jQKg"
   },
   "source": [
    "# <font color=green>DATASET DO PROJETO</font>\n",
    "***"
   ]
  },
  {
   "cell_type": "markdown",
   "metadata": {
    "colab_type": "text",
    "id": "iN1gIbaKjQKh"
   },
   "source": [
    "### Pesquisa Nacional por Amostra de Domicílios - 2015\n",
    "\n",
    "A <b>Pesquisa Nacional por Amostra de Domicílios - PNAD</b> investiga anualmente, de forma permanente, características gerais da população, de educação, trabalho, rendimento e habitação e outras, com periodicidade variável, de acordo com as necessidades de informação para o país, como as características sobre migração, fecundidade, nupcialidade, saúde, segurança alimentar, entre outros temas. O levantamento dessas estatísticas constitui, ao longo dos 49 anos de realização da pesquisa, um importante instrumento para formulação, validação e avaliação de políticas orientadas para o desenvolvimento socioeconômico e a melhoria das condições de vida no Brasil."
   ]
  },
  {
   "cell_type": "markdown",
   "metadata": {
    "colab_type": "text",
    "id": "U6V7br1RjQKi"
   },
   "source": [
    "### Fonte dos Dados\n",
    "\n",
    "https://ww2.ibge.gov.br/home/estatistica/populacao/trabalhoerendimento/pnad2015/microdados.shtm"
   ]
  },
  {
   "cell_type": "markdown",
   "metadata": {
    "colab_type": "text",
    "id": "r0Fe_qnzjQKj"
   },
   "source": [
    "### Variáveis utilizadas\n",
    "\n",
    "> ### Renda\n",
    "> ***\n",
    "\n",
    "Rendimento mensal do trabalho principal para pessoas de 10 anos ou mais de idade.\n",
    "\n",
    "> ### Idade\n",
    "> ***\n",
    "\n",
    "Idade do morador na data de referência em anos.\n",
    "\n",
    "> ### Altura (elaboração própria)\n",
    "> ***\n",
    "\n",
    "Altura do morador em metros.\n",
    "\n",
    "> ### UF\n",
    "> ***\n",
    "\n",
    "|Código|Descrição|\n",
    "|---|---|\n",
    "|11|Rondônia|\n",
    "|12|Acre|\n",
    "|13|Amazonas|\n",
    "|14|Roraima|\n",
    "|15|Pará|\n",
    "|16|Amapá|\n",
    "|17|Tocantins|\n",
    "|21|Maranhão|\n",
    "|22|Piauí|\n",
    "|23|Ceará|\n",
    "|24|Rio Grande do Norte|\n",
    "|25|Paraíba|\n",
    "|26|Pernambuco|\n",
    "|27|Alagoas|\n",
    "|28|Sergipe|\n",
    "|29|Bahia|\n",
    "|31|Minas Gerais|\n",
    "|32|Espírito Santo|\n",
    "|33|Rio de Janeiro|\n",
    "|35|São Paulo|\n",
    "|41|Paraná|\n",
    "|42|Santa Catarina|\n",
    "|43|Rio Grande do Sul|\n",
    "|50|Mato Grosso do Sul|\n",
    "|51|Mato Grosso|\n",
    "|52|Goiás|\n",
    "|53|Distrito Federal|\n",
    "\n",
    "> ### Sexo\t\n",
    "> ***\n",
    "\n",
    "|Código|Descrição|\n",
    "|---|---|\n",
    "|0|Masculino|\n",
    "|1|Feminino|\n",
    "\n",
    "> ### Anos de Estudo\n",
    "> ***\n",
    "\n",
    "|Código|Descrição|\n",
    "|---|---|\n",
    "|1|Sem instrução e menos de 1 ano|\n",
    "|2|1 ano|\n",
    "|3|2 anos|\n",
    "|4|3 anos|\n",
    "|5|4 anos|\n",
    "|6|5 anos|\n",
    "|7|6 anos|\n",
    "|8|7 anos|\n",
    "|9|8 anos|\n",
    "|10|9 anos|\n",
    "|11|10 anos|\n",
    "|12|11 anos|\n",
    "|13|12 anos|\n",
    "|14|13 anos|\n",
    "|15|14 anos|\n",
    "|16|15 anos ou mais|\n",
    "|17|Não determinados| \n",
    "||Não aplicável|\n",
    "\n",
    "> ### Cor\n",
    "> ***\n",
    "\n",
    "|Código|Descrição|\n",
    "|---|---|\n",
    "|0|Indígena|\n",
    "|2|Branca|\n",
    "|4|Preta|\n",
    "|6|Amarela|\n",
    "|8|Parda|\n",
    "|9|Sem declaração|"
   ]
  },
  {
   "cell_type": "markdown",
   "metadata": {
    "colab_type": "text",
    "id": "OK1IQH5cX7Gb"
   },
   "source": [
    "#### <font color='red'>Observação</font>\n",
    "***\n",
    "> Os seguintes tratamentos foram realizados nos dados originais:\n",
    "> 1. Foram eliminados os registros onde a <b>Renda</b> era inválida (999 999 999 999);\n",
    "> 2. Foram eliminados os registros onde a <b>Renda</b> era missing;\n",
    "> 3. Foram considerados somente os registros das <b>Pessoas de Referência</b> de cada domicílio (responsável pelo domicílio)."
   ]
  },
  {
   "cell_type": "markdown",
   "metadata": {
    "colab_type": "text",
    "id": "ZIqLOffNTg1Y"
   },
   "source": [
    "***\n",
    "***"
   ]
  },
  {
   "cell_type": "markdown",
   "metadata": {
    "colab_type": "text",
    "id": "8Rw70V6ojQKk"
   },
   "source": [
    "### Utilize a célula abaixo para importar as biblioteca que precisar para executar as tarefas\n",
    "#### <font color='red'>Sugestões: pandas, numpy, seaborn</font>"
   ]
  },
  {
   "cell_type": "code",
   "execution_count": 1,
   "metadata": {
    "colab": {},
    "colab_type": "code",
    "id": "fcTgimHBybMz"
   },
   "outputs": [],
   "source": [
    "import pandas as pd\n",
    "import numpy as np\n",
    "import seaborn as sns"
   ]
  },
  {
   "cell_type": "markdown",
   "metadata": {
    "colab_type": "text",
    "id": "2a-gvBvCULwt"
   },
   "source": [
    "### Importe o dataset e armazene o conteúdo em uma DataFrame"
   ]
  },
  {
   "cell_type": "code",
   "execution_count": 2,
   "metadata": {
    "colab": {},
    "colab_type": "code",
    "id": "ufRZ7TLwjQKo"
   },
   "outputs": [],
   "source": [
    "dados = pd.read_csv('dados.csv')"
   ]
  },
  {
   "cell_type": "markdown",
   "metadata": {
    "colab_type": "text",
    "id": "Oq3CKHCmTg1j"
   },
   "source": [
    "### Visualize o conteúdo do DataFrame"
   ]
  },
  {
   "cell_type": "code",
   "execution_count": 3,
   "metadata": {
    "colab": {},
    "colab_type": "code",
    "id": "GsC_WhLFjQKq",
    "scrolled": true
   },
   "outputs": [
    {
     "data": {
      "text/html": [
       "<div>\n",
       "<style scoped>\n",
       "    .dataframe tbody tr th:only-of-type {\n",
       "        vertical-align: middle;\n",
       "    }\n",
       "\n",
       "    .dataframe tbody tr th {\n",
       "        vertical-align: top;\n",
       "    }\n",
       "\n",
       "    .dataframe thead th {\n",
       "        text-align: right;\n",
       "    }\n",
       "</style>\n",
       "<table border=\"1\" class=\"dataframe\">\n",
       "  <thead>\n",
       "    <tr style=\"text-align: right;\">\n",
       "      <th></th>\n",
       "      <th>UF</th>\n",
       "      <th>Sexo</th>\n",
       "      <th>Idade</th>\n",
       "      <th>Cor</th>\n",
       "      <th>Anos de Estudo</th>\n",
       "      <th>Renda</th>\n",
       "      <th>Altura</th>\n",
       "    </tr>\n",
       "  </thead>\n",
       "  <tbody>\n",
       "    <tr>\n",
       "      <th>0</th>\n",
       "      <td>11</td>\n",
       "      <td>0</td>\n",
       "      <td>23</td>\n",
       "      <td>8</td>\n",
       "      <td>12</td>\n",
       "      <td>800</td>\n",
       "      <td>1.603808</td>\n",
       "    </tr>\n",
       "    <tr>\n",
       "      <th>1</th>\n",
       "      <td>11</td>\n",
       "      <td>1</td>\n",
       "      <td>23</td>\n",
       "      <td>2</td>\n",
       "      <td>12</td>\n",
       "      <td>1150</td>\n",
       "      <td>1.739790</td>\n",
       "    </tr>\n",
       "    <tr>\n",
       "      <th>2</th>\n",
       "      <td>11</td>\n",
       "      <td>1</td>\n",
       "      <td>35</td>\n",
       "      <td>8</td>\n",
       "      <td>15</td>\n",
       "      <td>880</td>\n",
       "      <td>1.760444</td>\n",
       "    </tr>\n",
       "    <tr>\n",
       "      <th>3</th>\n",
       "      <td>11</td>\n",
       "      <td>0</td>\n",
       "      <td>46</td>\n",
       "      <td>2</td>\n",
       "      <td>6</td>\n",
       "      <td>3500</td>\n",
       "      <td>1.783158</td>\n",
       "    </tr>\n",
       "    <tr>\n",
       "      <th>4</th>\n",
       "      <td>11</td>\n",
       "      <td>1</td>\n",
       "      <td>47</td>\n",
       "      <td>8</td>\n",
       "      <td>9</td>\n",
       "      <td>150</td>\n",
       "      <td>1.690631</td>\n",
       "    </tr>\n",
       "  </tbody>\n",
       "</table>\n",
       "</div>"
      ],
      "text/plain": [
       "   UF  Sexo  Idade  Cor  Anos de Estudo  Renda    Altura\n",
       "0  11     0     23    8              12    800  1.603808\n",
       "1  11     1     23    2              12   1150  1.739790\n",
       "2  11     1     35    8              15    880  1.760444\n",
       "3  11     0     46    2               6   3500  1.783158\n",
       "4  11     1     47    8               9    150  1.690631"
      ]
     },
     "execution_count": 3,
     "metadata": {},
     "output_type": "execute_result"
    }
   ],
   "source": [
    "dados.head()"
   ]
  },
  {
   "cell_type": "markdown",
   "metadata": {
    "colab_type": "text",
    "id": "HDrFJQitTg1n"
   },
   "source": [
    "### Para avaliarmos o comportamento da variável RENDA vamos construir uma tabela de frequências considerando as seguintes classes em salários mínimos (SM)\n",
    "#### <font color='blue'>Descreva os pontos mais relevantes que você observa na tabela e no gráfico.</font>\n",
    "\n",
    "Classes de renda:\n",
    "\n",
    "<b>A</b> ► Acima de 25 SM\n",
    "\n",
    "<b>B</b> ► De 15 a 25 SM\n",
    "\n",
    "<b>C</b> ► De 5 a 15 SM\n",
    "\n",
    "<b>D</b> ► De 2 a 5 SM\n",
    "\n",
    "<b>E</b> ► Até 2 SM\n",
    "\n",
    "Para construir as classes de renda considere que o salário mínimo na época da pesquisa era de <b>R$ 788,00</b>.\n",
    "\n",
    "#### Siga os passos abaixo:"
   ]
  },
  {
   "cell_type": "markdown",
   "metadata": {
    "colab_type": "text",
    "id": "zJBkeGxiTg1o"
   },
   "source": [
    "### 1º Definir os intevalos das classes em reais (R$)"
   ]
  },
  {
   "cell_type": "code",
   "execution_count": 5,
   "metadata": {
    "colab": {},
    "colab_type": "code",
    "id": "-Ct3QUj6Tg1p"
   },
   "outputs": [
    {
     "name": "stdout",
     "output_type": "stream",
     "text": [
      "0 200000\n"
     ]
    }
   ],
   "source": [
    "salario_minimo = 788\n",
    "mini = dados.Renda.min()\n",
    "maxi = dados.Renda.max()\n",
    "print(mini,maxi)"
   ]
  },
  {
   "cell_type": "code",
   "execution_count": 6,
   "metadata": {},
   "outputs": [
    {
     "data": {
      "text/plain": [
       "[0, 1576, 3940, 11820, 19700, 200000]"
      ]
     },
     "execution_count": 6,
     "metadata": {},
     "output_type": "execute_result"
    }
   ],
   "source": [
    "classes = [\n",
    "    mini, \n",
    "    2 * salario_minimo,\n",
    "    5 * salario_minimo,\n",
    "    15 * salario_minimo,\n",
    "    25 * salario_minimo,\n",
    "    maxi\n",
    "]\n",
    "classes"
   ]
  },
  {
   "cell_type": "markdown",
   "metadata": {
    "colab_type": "text",
    "id": "dZ7X37CGTg1t"
   },
   "source": [
    "### 2º Definir os labels das classes"
   ]
  },
  {
   "cell_type": "code",
   "execution_count": 7,
   "metadata": {
    "colab": {},
    "colab_type": "code",
    "id": "4UFOzitTTg1u"
   },
   "outputs": [],
   "source": [
    "labels = ['E', 'D', 'C', 'B', 'A']"
   ]
  },
  {
   "cell_type": "markdown",
   "metadata": {
    "colab_type": "text",
    "id": "umFq1o-UTg1w"
   },
   "source": [
    "### 3º Construir a coluna de frequências"
   ]
  },
  {
   "cell_type": "code",
   "execution_count": 16,
   "metadata": {
    "colab": {},
    "colab_type": "code",
    "id": "uSztBoqOTg1x"
   },
   "outputs": [
    {
     "data": {
      "text/plain": [
       "E    49755\n",
       "D    18602\n",
       "C     7241\n",
       "B      822\n",
       "A      420\n",
       "Name: Renda, dtype: int64"
      ]
     },
     "execution_count": 16,
     "metadata": {},
     "output_type": "execute_result"
    }
   ],
   "source": [
    "frequencia = pd.value_counts(pd.cut(x = dados.Renda,\n",
    "       bins = classes,\n",
    "       labels = labels,\n",
    "       include_lowest = True)\n",
    ")\n",
    "frequencia"
   ]
  },
  {
   "cell_type": "markdown",
   "metadata": {
    "colab_type": "text",
    "id": "2k6nGUZKTg11"
   },
   "source": [
    "### 4º Construir a coluna de percentuais"
   ]
  },
  {
   "cell_type": "code",
   "execution_count": 17,
   "metadata": {
    "colab": {},
    "colab_type": "code",
    "id": "rdwUABsnTg12"
   },
   "outputs": [
    {
     "data": {
      "text/plain": [
       "E    0.647514\n",
       "D    0.242087\n",
       "C    0.094235\n",
       "B    0.010698\n",
       "A    0.005466\n",
       "Name: Renda, dtype: float64"
      ]
     },
     "execution_count": 17,
     "metadata": {},
     "output_type": "execute_result"
    }
   ],
   "source": [
    "percentual = pd.value_counts(pd.cut(x = dados.Renda,\n",
    "       bins = classes,\n",
    "       labels = labels,\n",
    "       include_lowest = True), normalize = True\n",
    ")\n",
    "percentual"
   ]
  },
  {
   "cell_type": "markdown",
   "metadata": {
    "colab_type": "text",
    "id": "9dvk6-9_Tg16"
   },
   "source": [
    "### 5º Juntar as colunas de frequência e percentuais e ordenar as linhas de acordo com os labels das classes"
   ]
  },
  {
   "cell_type": "code",
   "execution_count": 24,
   "metadata": {
    "colab": {},
    "colab_type": "code",
    "id": "tO_bcMmgTg16"
   },
   "outputs": [
    {
     "data": {
      "text/html": [
       "<div>\n",
       "<style scoped>\n",
       "    .dataframe tbody tr th:only-of-type {\n",
       "        vertical-align: middle;\n",
       "    }\n",
       "\n",
       "    .dataframe tbody tr th {\n",
       "        vertical-align: top;\n",
       "    }\n",
       "\n",
       "    .dataframe thead th {\n",
       "        text-align: right;\n",
       "    }\n",
       "</style>\n",
       "<table border=\"1\" class=\"dataframe\">\n",
       "  <thead>\n",
       "    <tr style=\"text-align: right;\">\n",
       "      <th></th>\n",
       "      <th>Frequência</th>\n",
       "      <th>Porcentagem (%)</th>\n",
       "    </tr>\n",
       "  </thead>\n",
       "  <tbody>\n",
       "    <tr>\n",
       "      <th>A</th>\n",
       "      <td>420</td>\n",
       "      <td>0.005466</td>\n",
       "    </tr>\n",
       "    <tr>\n",
       "      <th>B</th>\n",
       "      <td>822</td>\n",
       "      <td>0.010698</td>\n",
       "    </tr>\n",
       "    <tr>\n",
       "      <th>C</th>\n",
       "      <td>7241</td>\n",
       "      <td>0.094235</td>\n",
       "    </tr>\n",
       "    <tr>\n",
       "      <th>D</th>\n",
       "      <td>18602</td>\n",
       "      <td>0.242087</td>\n",
       "    </tr>\n",
       "    <tr>\n",
       "      <th>E</th>\n",
       "      <td>49755</td>\n",
       "      <td>0.647514</td>\n",
       "    </tr>\n",
       "  </tbody>\n",
       "</table>\n",
       "</div>"
      ],
      "text/plain": [
       "   Frequência  Porcentagem (%)\n",
       "A         420         0.005466\n",
       "B         822         0.010698\n",
       "C        7241         0.094235\n",
       "D       18602         0.242087\n",
       "E       49755         0.647514"
      ]
     },
     "execution_count": 24,
     "metadata": {},
     "output_type": "execute_result"
    }
   ],
   "source": [
    "tab_freq = pd.DataFrame({'Frequência': frequencia, 'Porcentagem (%)': percentual})\n",
    "tab_freq.sort_index(ascending = False)"
   ]
  },
  {
   "cell_type": "markdown",
   "metadata": {
    "colab_type": "text",
    "id": "DOYtXuSbTg18"
   },
   "source": [
    "### Construa um gráfico de barras para visualizar as informações da tabela de frequências acima"
   ]
  },
  {
   "cell_type": "code",
   "execution_count": 36,
   "metadata": {},
   "outputs": [
    {
     "data": {
      "text/plain": [
       "<AxesSubplot:>"
      ]
     },
     "execution_count": 36,
     "metadata": {},
     "output_type": "execute_result"
    },
    {
     "data": {
      "image/png": "[encoded data removed]",
      "text/plain": [
       "<Figure size 1008x432 with 1 Axes>"
      ]
     },
     "metadata": {
      "needs_background": "light"
     },
     "output_type": "display_data"
    }
   ],
   "source": [
    "tab_freq['Frequência'].plot.bar(width = 1, color = 'blue', alpha = 0.2, figsize=(14, 6))"
   ]
  },
  {
   "cell_type": "markdown",
   "metadata": {
    "colab_type": "text",
    "id": "9ppt5JevTg1-"
   },
   "source": [
    "> ### Conclusões\n",
    "\n",
    "Através dos dados evidênciados na tabela de frequência e gráfico de barras, notamos que mais da metade da amostra possui renda abaixo de 2 salários mínimos (aproximadamente 65% possui renda < R$ 1.576,00), estando na Classe 'E'. \n",
    "Cerca de 24% possui renda entre 2 salários mínmos e 5 salários mínimos, ou seja, classe D."
   ]
  },
  {
   "cell_type": "markdown",
   "metadata": {
    "colab_type": "text",
    "id": "yt-gFm93Tg1-"
   },
   "source": [
    "### Crie um histograma para as variáveis QUANTITATIVAS de nosso dataset\n",
    "#### <font color='blue'>Descreva os pontos mais relevantes que você observa nos gráficos (assimetrias e seus tipos, possíveis causas para determinados comportamentos etc.)</font>"
   ]
  },
  {
   "cell_type": "code",
   "execution_count": 41,
   "metadata": {
    "colab": {},
    "colab_type": "code",
    "id": "DYjq9xasTg1_"
   },
   "outputs": [
    {
     "name": "stderr",
     "output_type": "stream",
     "text": [
      "C:\\ProgramData\\Miniconda3\\lib\\site-packages\\seaborn\\distributions.py:2557: FutureWarning: `distplot` is a deprecated function and will be removed in a future version. Please adapt your code to use either `displot` (a figure-level function with similar flexibility) or `histplot` (an axes-level function for histograms).\n",
      "  warnings.warn(msg, FutureWarning)\n"
     ]
    },
    {
     "data": {
      "text/plain": [
       "<AxesSubplot:title={'center':'Histograma - Idade'}, xlabel='Idade', ylabel='Frequência'>"
      ]
     },
     "execution_count": 41,
     "metadata": {},
     "output_type": "execute_result"
    },
    {
     "data": {
      "image/png": "[encoded data removed]",
      "text/plain": [
       "<Figure size 1008x432 with 1 Axes>"
      ]
     },
     "metadata": {
      "needs_background": "light"
     },
     "output_type": "display_data"
    }
   ],
   "source": [
    "ax = sns.distplot(dados.Idade)\n",
    "ax.figure.set_size_inches(14, 6)\n",
    "ax.set_title('Histograma - Idade')\n",
    "ax.set_xlabel('Idade')\n",
    "ax.set_ylabel('Frequência')\n",
    "ax"
   ]
  },
  {
   "cell_type": "code",
   "execution_count": 42,
   "metadata": {
    "colab": {},
    "colab_type": "code",
    "id": "uh2CWIG8Tg2A",
    "tags": []
   },
   "outputs": [
    {
     "name": "stderr",
     "output_type": "stream",
     "text": [
      "C:\\ProgramData\\Miniconda3\\lib\\site-packages\\seaborn\\distributions.py:2557: FutureWarning: `distplot` is a deprecated function and will be removed in a future version. Please adapt your code to use either `displot` (a figure-level function with similar flexibility) or `histplot` (an axes-level function for histograms).\n",
      "  warnings.warn(msg, FutureWarning)\n"
     ]
    },
    {
     "data": {
      "text/plain": [
       "<AxesSubplot:title={'center':'Histograma - Altura'}, xlabel='Metros', ylabel='Frequência'>"
      ]
     },
     "execution_count": 42,
     "metadata": {},
     "output_type": "execute_result"
    },
    {
     "data": {
      "image/png": "[encoded data removed]",
      "text/plain": [
       "<Figure size 1008x432 with 1 Axes>"
      ]
     },
     "metadata": {
      "needs_background": "light"
     },
     "output_type": "display_data"
    }
   ],
   "source": [
    "ax = sns.distplot(dados.Altura)\n",
    "ax.figure.set_size_inches(14, 6)\n",
    "ax.set_title('Histograma - Altura')\n",
    "ax.set_xlabel('Metros')\n",
    "ax.set_ylabel('Frequência')\n",
    "ax"
   ]
  },
  {
   "cell_type": "code",
   "execution_count": 66,
   "metadata": {
    "colab": {},
    "colab_type": "code",
    "id": "s55WPk1aTg2C"
   },
   "outputs": [
    {
     "name": "stderr",
     "output_type": "stream",
     "text": [
      "C:\\ProgramData\\Miniconda3\\lib\\site-packages\\seaborn\\distributions.py:2557: FutureWarning: `distplot` is a deprecated function and will be removed in a future version. Please adapt your code to use either `displot` (a figure-level function with similar flexibility) or `histplot` (an axes-level function for histograms).\n",
      "  warnings.warn(msg, FutureWarning)\n"
     ]
    },
    {
     "data": {
      "text/plain": [
       "<AxesSubplot:title={'center':'Histograma - Renda'}, xlabel='R$', ylabel='Frequência'>"
      ]
     },
     "execution_count": 66,
     "metadata": {},
     "output_type": "execute_result"
    },
    {
     "data": {
      "image/png": "[encoded data removed]",
      "text/plain": [
       "<Figure size 1008x432 with 1 Axes>"
      ]
     },
     "metadata": {
      "needs_background": "light"
     },
     "output_type": "display_data"
    }
   ],
   "source": [
    "ax = sns.distplot(dados.Renda)\n",
    "ax.figure.set_size_inches(14, 6)\n",
    "ax.set_title('Histograma - Renda')\n",
    "ax.set_xlabel('R$')\n",
    "ax.set_ylabel('Frequência')\n",
    "ax"
   ]
  },
  {
   "cell_type": "markdown",
   "metadata": {
    "colab_type": "text",
    "id": "w45i-qJ1Tg2E"
   },
   "source": [
    "> ### Conclusões\n",
    "\n",
    "Acerca do Histograma da variável Idade, nota-se uma distribuição normal, com uma leve assimetria a direita.\n",
    "\n",
    "Acerca do Histograma da variável Altura, nota-se uma distribuição normal, simétrica. "
   ]
  },
  {
   "cell_type": "markdown",
   "metadata": {
    "colab_type": "text",
    "id": "pnAH1T5fTg2F"
   },
   "source": [
    "### Para a variável RENDA, construa um histograma somente com as informações das pessoas com rendimento até R$ 20.000,00"
   ]
  },
  {
   "cell_type": "code",
   "execution_count": 45,
   "metadata": {
    "colab": {},
    "colab_type": "code",
    "id": "C7zHF1vPTg2G"
   },
   "outputs": [
    {
     "name": "stderr",
     "output_type": "stream",
     "text": [
      "C:\\ProgramData\\Miniconda3\\lib\\site-packages\\seaborn\\distributions.py:2557: FutureWarning: `distplot` is a deprecated function and will be removed in a future version. Please adapt your code to use either `displot` (a figure-level function with similar flexibility) or `histplot` (an axes-level function for histograms).\n",
      "  warnings.warn(msg, FutureWarning)\n"
     ]
    },
    {
     "data": {
      "text/plain": [
       "<AxesSubplot:title={'center':'Histograma - Distribuição de frequência - Renda até R$ 20.000,00'}, xlabel='R$', ylabel='Frequência'>"
      ]
     },
     "execution_count": 45,
     "metadata": {},
     "output_type": "execute_result"
    },
    {
     "data": {
      "image/png": "[encoded data removed]",
      "text/plain": [
       "<Figure size 1008x432 with 1 Axes>"
      ]
     },
     "metadata": {
      "needs_background": "light"
     },
     "output_type": "display_data"
    }
   ],
   "source": [
    "ax = sns.distplot(dados.query('Renda < 20000').Renda)\n",
    "ax.figure.set_size_inches(14, 6)\n",
    "ax.set_title('Histograma - Distribuição de frequência - Renda até R$ 20.000,00')\n",
    "ax.set_xlabel('R$')\n",
    "ax.set_ylabel('Frequência')\n",
    "ax"
   ]
  },
  {
   "cell_type": "markdown",
   "metadata": {
    "colab_type": "text",
    "id": "vvtzLOUKTg2H"
   },
   "source": [
    "### Construa uma tabela de frequências e uma com os percentuais do cruzando das variáveis SEXO e COR\n",
    "#### <font color='blue'>Avalie o resultado da tabela e escreva suas principais conclusões</font>\n",
    "#### <font color='red'>Utilize os dicionários abaixo para renomear as linha e colunas das tabelas de frequências e dos gráficos em nosso projeto</font>"
   ]
  },
  {
   "cell_type": "code",
   "execution_count": 46,
   "metadata": {
    "colab": {},
    "colab_type": "code",
    "id": "sChJRo_qTg2I"
   },
   "outputs": [],
   "source": [
    "sexo = {\n",
    "    0: 'Masculino', \n",
    "    1: 'Feminino'\n",
    "}\n",
    "cor = {\n",
    "    0: 'Indígena', \n",
    "    2: 'Branca', \n",
    "    4: 'Preta', \n",
    "    6: 'Amarela', \n",
    "    8: 'Parda', \n",
    "    9: 'Sem declaração'\n",
    "}\n",
    "anos_de_estudo = {\n",
    "    1: 'Sem instrução e menos de 1 ano', \n",
    "    2: '1 ano', \n",
    "    3: '2 anos', \n",
    "    4: '3 anos', \n",
    "    5: '4 anos', \n",
    "    6: '5 anos', \n",
    "    7: '6 anos', \n",
    "    8: '7 anos', \n",
    "    9: '8 anos', \n",
    "    10: '9 anos', \n",
    "    11: '10 anos', \n",
    "    12: '11 anos', \n",
    "    13: '12 anos', \n",
    "    14: '13 anos', \n",
    "    15: '14 anos', \n",
    "    16: '15 anos ou mais', \n",
    "    17: 'Não determinados'\n",
    "}\n",
    "uf = {\n",
    "    11: 'Rondônia', \n",
    "    12: 'Acre', \n",
    "    13: 'Amazonas', \n",
    "    14: 'Roraima', \n",
    "    15: 'Pará', \n",
    "    16: 'Amapá', \n",
    "    17: 'Tocantins', \n",
    "    21: 'Maranhão', \n",
    "    22: 'Piauí', \n",
    "    23: 'Ceará', \n",
    "    24: 'Rio Grande do Norte', \n",
    "    25: 'Paraíba', \n",
    "    26: 'Pernambuco', \n",
    "    27: 'Alagoas', \n",
    "    28: 'Sergipe', \n",
    "    29: 'Bahia', \n",
    "    31: 'Minas Gerais', \n",
    "    32: 'Espírito Santo', \n",
    "    33: 'Rio de Janeiro', \n",
    "    35: 'São Paulo', \n",
    "    41: 'Paraná', \n",
    "    42: 'Santa Catarina', \n",
    "    43: 'Rio Grande do Sul', \n",
    "    50: 'Mato Grosso do Sul', \n",
    "    51: 'Mato Grosso', \n",
    "    52: 'Goiás', \n",
    "    53: 'Distrito Federal'\n",
    "}"
   ]
  },
  {
   "cell_type": "code",
   "execution_count": 47,
   "metadata": {
    "colab": {},
    "colab_type": "code",
    "id": "KbeFXAGSTg2K"
   },
   "outputs": [
    {
     "data": {
      "text/html": [
       "<div>\n",
       "<style scoped>\n",
       "    .dataframe tbody tr th:only-of-type {\n",
       "        vertical-align: middle;\n",
       "    }\n",
       "\n",
       "    .dataframe tbody tr th {\n",
       "        vertical-align: top;\n",
       "    }\n",
       "\n",
       "    .dataframe thead th {\n",
       "        text-align: right;\n",
       "    }\n",
       "</style>\n",
       "<table border=\"1\" class=\"dataframe\">\n",
       "  <thead>\n",
       "    <tr style=\"text-align: right;\">\n",
       "      <th></th>\n",
       "      <th>UF</th>\n",
       "      <th>Sexo</th>\n",
       "      <th>Idade</th>\n",
       "      <th>Cor</th>\n",
       "      <th>Anos de Estudo</th>\n",
       "      <th>Renda</th>\n",
       "      <th>Altura</th>\n",
       "    </tr>\n",
       "  </thead>\n",
       "  <tbody>\n",
       "    <tr>\n",
       "      <th>0</th>\n",
       "      <td>11</td>\n",
       "      <td>0</td>\n",
       "      <td>23</td>\n",
       "      <td>8</td>\n",
       "      <td>12</td>\n",
       "      <td>800</td>\n",
       "      <td>1.603808</td>\n",
       "    </tr>\n",
       "    <tr>\n",
       "      <th>1</th>\n",
       "      <td>11</td>\n",
       "      <td>1</td>\n",
       "      <td>23</td>\n",
       "      <td>2</td>\n",
       "      <td>12</td>\n",
       "      <td>1150</td>\n",
       "      <td>1.739790</td>\n",
       "    </tr>\n",
       "    <tr>\n",
       "      <th>2</th>\n",
       "      <td>11</td>\n",
       "      <td>1</td>\n",
       "      <td>35</td>\n",
       "      <td>8</td>\n",
       "      <td>15</td>\n",
       "      <td>880</td>\n",
       "      <td>1.760444</td>\n",
       "    </tr>\n",
       "    <tr>\n",
       "      <th>3</th>\n",
       "      <td>11</td>\n",
       "      <td>0</td>\n",
       "      <td>46</td>\n",
       "      <td>2</td>\n",
       "      <td>6</td>\n",
       "      <td>3500</td>\n",
       "      <td>1.783158</td>\n",
       "    </tr>\n",
       "    <tr>\n",
       "      <th>4</th>\n",
       "      <td>11</td>\n",
       "      <td>1</td>\n",
       "      <td>47</td>\n",
       "      <td>8</td>\n",
       "      <td>9</td>\n",
       "      <td>150</td>\n",
       "      <td>1.690631</td>\n",
       "    </tr>\n",
       "  </tbody>\n",
       "</table>\n",
       "</div>"
      ],
      "text/plain": [
       "   UF  Sexo  Idade  Cor  Anos de Estudo  Renda    Altura\n",
       "0  11     0     23    8              12    800  1.603808\n",
       "1  11     1     23    2              12   1150  1.739790\n",
       "2  11     1     35    8              15    880  1.760444\n",
       "3  11     0     46    2               6   3500  1.783158\n",
       "4  11     1     47    8               9    150  1.690631"
      ]
     },
     "execution_count": 47,
     "metadata": {},
     "output_type": "execute_result"
    }
   ],
   "source": [
    "dados.head()"
   ]
  },
  {
   "cell_type": "code",
   "execution_count": 50,
   "metadata": {
    "colab": {},
    "colab_type": "code",
    "id": "csL1jaeSTg2M"
   },
   "outputs": [
    {
     "data": {
      "text/html": [
       "<div>\n",
       "<style scoped>\n",
       "    .dataframe tbody tr th:only-of-type {\n",
       "        vertical-align: middle;\n",
       "    }\n",
       "\n",
       "    .dataframe tbody tr th {\n",
       "        vertical-align: top;\n",
       "    }\n",
       "\n",
       "    .dataframe thead th {\n",
       "        text-align: right;\n",
       "    }\n",
       "</style>\n",
       "<table border=\"1\" class=\"dataframe\">\n",
       "  <thead>\n",
       "    <tr style=\"text-align: right;\">\n",
       "      <th>Cor</th>\n",
       "      <th>Indígena</th>\n",
       "      <th>Branca</th>\n",
       "      <th>Preta</th>\n",
       "      <th>Amarela</th>\n",
       "      <th>Parda</th>\n",
       "    </tr>\n",
       "    <tr>\n",
       "      <th>Sexo</th>\n",
       "      <th></th>\n",
       "      <th></th>\n",
       "      <th></th>\n",
       "      <th></th>\n",
       "      <th></th>\n",
       "    </tr>\n",
       "  </thead>\n",
       "  <tbody>\n",
       "    <tr>\n",
       "      <th>Masculino</th>\n",
       "      <td>256</td>\n",
       "      <td>22194</td>\n",
       "      <td>5502</td>\n",
       "      <td>235</td>\n",
       "      <td>25063</td>\n",
       "    </tr>\n",
       "    <tr>\n",
       "      <th>Feminino</th>\n",
       "      <td>101</td>\n",
       "      <td>9621</td>\n",
       "      <td>2889</td>\n",
       "      <td>117</td>\n",
       "      <td>10862</td>\n",
       "    </tr>\n",
       "  </tbody>\n",
       "</table>\n",
       "</div>"
      ],
      "text/plain": [
       "Cor        Indígena  Branca  Preta  Amarela  Parda\n",
       "Sexo                                              \n",
       "Masculino       256   22194   5502      235  25063\n",
       "Feminino        101    9621   2889      117  10862"
      ]
     },
     "execution_count": 50,
     "metadata": {},
     "output_type": "execute_result"
    }
   ],
   "source": [
    "frequencia = pd.crosstab(dados.Sexo,dados.Cor)\n",
    "frequencia.rename(index = sexo, inplace = True)\n",
    "frequencia.rename(columns = cor,  inplace = True)\n",
    "frequencia"
   ]
  },
  {
   "cell_type": "code",
   "execution_count": 51,
   "metadata": {},
   "outputs": [
    {
     "data": {
      "text/html": [
       "<div>\n",
       "<style scoped>\n",
       "    .dataframe tbody tr th:only-of-type {\n",
       "        vertical-align: middle;\n",
       "    }\n",
       "\n",
       "    .dataframe tbody tr th {\n",
       "        vertical-align: top;\n",
       "    }\n",
       "\n",
       "    .dataframe thead th {\n",
       "        text-align: right;\n",
       "    }\n",
       "</style>\n",
       "<table border=\"1\" class=\"dataframe\">\n",
       "  <thead>\n",
       "    <tr style=\"text-align: right;\">\n",
       "      <th>Cor</th>\n",
       "      <th>Indígena</th>\n",
       "      <th>Branca</th>\n",
       "      <th>Preta</th>\n",
       "      <th>Amarela</th>\n",
       "      <th>Parda</th>\n",
       "    </tr>\n",
       "    <tr>\n",
       "      <th>Sexo</th>\n",
       "      <th></th>\n",
       "      <th></th>\n",
       "      <th></th>\n",
       "      <th></th>\n",
       "      <th></th>\n",
       "    </tr>\n",
       "  </thead>\n",
       "  <tbody>\n",
       "    <tr>\n",
       "      <th>Masculino</th>\n",
       "      <td>0.003332</td>\n",
       "      <td>0.288834</td>\n",
       "      <td>0.071603</td>\n",
       "      <td>0.003058</td>\n",
       "      <td>0.326171</td>\n",
       "    </tr>\n",
       "    <tr>\n",
       "      <th>Feminino</th>\n",
       "      <td>0.001314</td>\n",
       "      <td>0.125208</td>\n",
       "      <td>0.037598</td>\n",
       "      <td>0.001523</td>\n",
       "      <td>0.141359</td>\n",
       "    </tr>\n",
       "  </tbody>\n",
       "</table>\n",
       "</div>"
      ],
      "text/plain": [
       "Cor        Indígena    Branca     Preta   Amarela     Parda\n",
       "Sexo                                                       \n",
       "Masculino  0.003332  0.288834  0.071603  0.003058  0.326171\n",
       "Feminino   0.001314  0.125208  0.037598  0.001523  0.141359"
      ]
     },
     "execution_count": 51,
     "metadata": {},
     "output_type": "execute_result"
    }
   ],
   "source": [
    "percentual = pd.crosstab(dados.Sexo,dados.Cor, normalize = True)\n",
    "percentual.rename(index = sexo, inplace = True)\n",
    "percentual.rename(columns = cor,  inplace = True)\n",
    "percentual"
   ]
  },
  {
   "cell_type": "markdown",
   "metadata": {
    "colab_type": "text",
    "id": "2jLZmww2Tg2O"
   },
   "source": [
    "> ### Conclusões\n",
    "\n",
    "Através das tabelas de frequência e percentual, verificamos que os chefes das famílias, em grande maioria são homens, em todas as categorias de cor. A cor que possui um maior percentual é a Parda, com 32% para homens e 14% para as mulheres."
   ]
  },
  {
   "cell_type": "markdown",
   "metadata": {
    "colab_type": "text",
    "id": "Aoeayf6zTg2P"
   },
   "source": [
    "## Realize, para a variável RENDA, uma análise descritiva com as ferramentas que aprendemos em nosso treinamento"
   ]
  },
  {
   "cell_type": "markdown",
   "metadata": {
    "colab_type": "text",
    "id": "c2CtT71oTg2P"
   },
   "source": [
    "### Obtenha a média aritimética"
   ]
  },
  {
   "cell_type": "code",
   "execution_count": 55,
   "metadata": {
    "colab": {},
    "colab_type": "code",
    "id": "qlJESCU6Tg2P"
   },
   "outputs": [
    {
     "data": {
      "text/plain": [
       "2000.3831988547631"
      ]
     },
     "execution_count": 55,
     "metadata": {},
     "output_type": "execute_result"
    }
   ],
   "source": [
    "media_renda = dados.Renda.mean()\n",
    "media_renda"
   ]
  },
  {
   "cell_type": "markdown",
   "metadata": {
    "colab_type": "text",
    "id": "Xd4saPBCTg2R"
   },
   "source": [
    "### Obtenha a mediana"
   ]
  },
  {
   "cell_type": "code",
   "execution_count": 56,
   "metadata": {
    "colab": {},
    "colab_type": "code",
    "id": "vHTqX-UATg2R"
   },
   "outputs": [
    {
     "data": {
      "text/plain": [
       "1200.0"
      ]
     },
     "execution_count": 56,
     "metadata": {},
     "output_type": "execute_result"
    }
   ],
   "source": [
    "mediana_renda = dados.Renda.median()\n",
    "mediana_renda"
   ]
  },
  {
   "cell_type": "markdown",
   "metadata": {
    "colab_type": "text",
    "id": "_e40rDSwTg2U"
   },
   "source": [
    "### Obtenha a moda"
   ]
  },
  {
   "cell_type": "code",
   "execution_count": 58,
   "metadata": {
    "colab": {},
    "colab_type": "code",
    "id": "BFOOdYOvTg2V"
   },
   "outputs": [
    {
     "data": {
      "text/plain": [
       "788"
      ]
     },
     "execution_count": 58,
     "metadata": {},
     "output_type": "execute_result"
    }
   ],
   "source": [
    "moda_renda = dados.Renda.mode()[0]\n",
    "moda_renda"
   ]
  },
  {
   "cell_type": "markdown",
   "metadata": {
    "colab_type": "text",
    "id": "Rnr1gOCMTg2X"
   },
   "source": [
    "### Obtenha o desvio médio absoluto"
   ]
  },
  {
   "cell_type": "code",
   "execution_count": 63,
   "metadata": {
    "colab": {},
    "colab_type": "code",
    "id": "TmE_1QDGTg2Y"
   },
   "outputs": [
    {
     "data": {
      "text/plain": [
       "1526.4951371644931"
      ]
     },
     "execution_count": 63,
     "metadata": {},
     "output_type": "execute_result"
    }
   ],
   "source": [
    "dma_renda = dados.Renda.mad()\n",
    "dma_renda"
   ]
  },
  {
   "cell_type": "markdown",
   "metadata": {
    "colab_type": "text",
    "id": "hCgV_XaQTg2Z"
   },
   "source": [
    "### Obtenha a variância"
   ]
  },
  {
   "cell_type": "code",
   "execution_count": 64,
   "metadata": {
    "colab": {},
    "colab_type": "code",
    "id": "SwRgACeGTg2a"
   },
   "outputs": [
    {
     "data": {
      "text/plain": [
       "11044906.00622118"
      ]
     },
     "execution_count": 64,
     "metadata": {},
     "output_type": "execute_result"
    }
   ],
   "source": [
    "var_renda = dados.Renda.var()\n",
    "var_renda"
   ]
  },
  {
   "cell_type": "markdown",
   "metadata": {
    "colab_type": "text",
    "id": "gsO6MKOcTg2c"
   },
   "source": [
    "### Obtenha o desvio-padrão"
   ]
  },
  {
   "cell_type": "code",
   "execution_count": 65,
   "metadata": {
    "colab": {},
    "colab_type": "code",
    "id": "gR-LVTRYTg2d"
   },
   "outputs": [
    {
     "data": {
      "text/plain": [
       "3323.3877303470294"
      ]
     },
     "execution_count": 65,
     "metadata": {},
     "output_type": "execute_result"
    }
   ],
   "source": [
    "std_renda = dados.Renda.std()\n",
    "std_renda"
   ]
  },
  {
   "cell_type": "markdown",
   "metadata": {
    "colab_type": "text",
    "id": "vG-rdO5fTg2f"
   },
   "source": [
    "### Obtenha a média, mediana e valor máximo da variável RENDA segundo SEXO e COR\n",
    "#### <font color='blue'>Destaque os pontos mais importante que você observa nas tabulações</font>\n",
    "#### <font color='red'>O parâmento <i>aggfunc</i> da função <i>crosstab()</i> pode receber uma lista de funções. Exemplo: <i>aggfunc = {'mean', 'median', 'max'}</i></font>"
   ]
  },
  {
   "cell_type": "code",
   "execution_count": 67,
   "metadata": {
    "colab": {},
    "colab_type": "code",
    "id": "VgxygKWXTg2g"
   },
   "outputs": [
    {
     "data": {
      "text/html": [
       "<div>\n",
       "<style scoped>\n",
       "    .dataframe tbody tr th:only-of-type {\n",
       "        vertical-align: middle;\n",
       "    }\n",
       "\n",
       "    .dataframe tbody tr th {\n",
       "        vertical-align: top;\n",
       "    }\n",
       "\n",
       "    .dataframe thead tr th {\n",
       "        text-align: left;\n",
       "    }\n",
       "\n",
       "    .dataframe thead tr:last-of-type th {\n",
       "        text-align: right;\n",
       "    }\n",
       "</style>\n",
       "<table border=\"1\" class=\"dataframe\">\n",
       "  <thead>\n",
       "    <tr>\n",
       "      <th></th>\n",
       "      <th colspan=\"2\" halign=\"left\">max</th>\n",
       "      <th colspan=\"2\" halign=\"left\">mean</th>\n",
       "      <th colspan=\"2\" halign=\"left\">median</th>\n",
       "    </tr>\n",
       "    <tr>\n",
       "      <th>Sexo</th>\n",
       "      <th>Masculino</th>\n",
       "      <th>Feminino</th>\n",
       "      <th>Masculino</th>\n",
       "      <th>Feminino</th>\n",
       "      <th>Masculino</th>\n",
       "      <th>Feminino</th>\n",
       "    </tr>\n",
       "    <tr>\n",
       "      <th>Cor</th>\n",
       "      <th></th>\n",
       "      <th></th>\n",
       "      <th></th>\n",
       "      <th></th>\n",
       "      <th></th>\n",
       "      <th></th>\n",
       "    </tr>\n",
       "  </thead>\n",
       "  <tbody>\n",
       "    <tr>\n",
       "      <th>Indígena</th>\n",
       "      <td>10000.0</td>\n",
       "      <td>120000.0</td>\n",
       "      <td>1081.710938</td>\n",
       "      <td>2464.386139</td>\n",
       "      <td>797.5</td>\n",
       "      <td>788.0</td>\n",
       "    </tr>\n",
       "    <tr>\n",
       "      <th>Branca</th>\n",
       "      <td>200000.0</td>\n",
       "      <td>100000.0</td>\n",
       "      <td>2925.744435</td>\n",
       "      <td>2109.866750</td>\n",
       "      <td>1700.0</td>\n",
       "      <td>1200.0</td>\n",
       "    </tr>\n",
       "    <tr>\n",
       "      <th>Preta</th>\n",
       "      <td>50000.0</td>\n",
       "      <td>23000.0</td>\n",
       "      <td>1603.861687</td>\n",
       "      <td>1134.596400</td>\n",
       "      <td>1200.0</td>\n",
       "      <td>800.0</td>\n",
       "    </tr>\n",
       "    <tr>\n",
       "      <th>Amarela</th>\n",
       "      <td>50000.0</td>\n",
       "      <td>20000.0</td>\n",
       "      <td>4758.251064</td>\n",
       "      <td>3027.341880</td>\n",
       "      <td>2800.0</td>\n",
       "      <td>1500.0</td>\n",
       "    </tr>\n",
       "    <tr>\n",
       "      <th>Parda</th>\n",
       "      <td>100000.0</td>\n",
       "      <td>30000.0</td>\n",
       "      <td>1659.577425</td>\n",
       "      <td>1176.758516</td>\n",
       "      <td>1200.0</td>\n",
       "      <td>800.0</td>\n",
       "    </tr>\n",
       "  </tbody>\n",
       "</table>\n",
       "</div>"
      ],
      "text/plain": [
       "               max                   mean                 median         \n",
       "Sexo     Masculino  Feminino    Masculino     Feminino Masculino Feminino\n",
       "Cor                                                                      \n",
       "Indígena   10000.0  120000.0  1081.710938  2464.386139     797.5    788.0\n",
       "Branca    200000.0  100000.0  2925.744435  2109.866750    1700.0   1200.0\n",
       "Preta      50000.0   23000.0  1603.861687  1134.596400    1200.0    800.0\n",
       "Amarela    50000.0   20000.0  4758.251064  3027.341880    2800.0   1500.0\n",
       "Parda     100000.0   30000.0  1659.577425  1176.758516    1200.0    800.0"
      ]
     },
     "execution_count": 67,
     "metadata": {},
     "output_type": "execute_result"
    }
   ],
   "source": [
    "renda_sex_cor = pd.crosstab(dados.Cor,dados.Sexo, values = dados.Renda,\n",
    "                        aggfunc = {'mean', 'median', 'max'})\n",
    "renda_sex_cor.rename(index = cor, inplace = True)\n",
    "renda_sex_cor.rename(columns = sexo,  inplace = True)\n",
    "renda_sex_cor"
   ]
  },
  {
   "cell_type": "markdown",
   "metadata": {
    "colab_type": "text",
    "id": "ibndm9iwTg2i"
   },
   "source": [
    "> ### Conclusões\n",
    "\n",
    "Através da tabela, percebemos que para todas as categorias de cores (exceto Indígena), o sexo Masculino possui renda superior ao sexo Feminino. Além disso, fica evidente que a categoria de cor Branca possui maiores valores se comparado as demais categorias. "
   ]
  },
  {
   "cell_type": "markdown",
   "metadata": {
    "colab_type": "text",
    "id": "CleJ6c1rTg2i"
   },
   "source": [
    "### Obtenha as medidas de dispersão da variável RENDA segundo SEXO e COR\n",
    "#### <font color='blue'>Destaque os pontos mais importante que você observa nas tabulações</font>\n",
    "#### <font color='red'>O parâmento <i>aggfunc</i> da função <i>crosstab()</i> pode receber uma lista de funções. Exemplo: <i>aggfunc = {'mad', 'var', 'std'}</i></font>"
   ]
  },
  {
   "cell_type": "code",
   "execution_count": 68,
   "metadata": {
    "colab": {},
    "colab_type": "code",
    "id": "bNv-eWZ3Tg2j"
   },
   "outputs": [
    {
     "data": {
      "text/html": [
       "<div>\n",
       "<style scoped>\n",
       "    .dataframe tbody tr th:only-of-type {\n",
       "        vertical-align: middle;\n",
       "    }\n",
       "\n",
       "    .dataframe tbody tr th {\n",
       "        vertical-align: top;\n",
       "    }\n",
       "\n",
       "    .dataframe thead tr th {\n",
       "        text-align: left;\n",
       "    }\n",
       "\n",
       "    .dataframe thead tr:last-of-type th {\n",
       "        text-align: right;\n",
       "    }\n",
       "</style>\n",
       "<table border=\"1\" class=\"dataframe\">\n",
       "  <thead>\n",
       "    <tr>\n",
       "      <th></th>\n",
       "      <th colspan=\"2\" halign=\"left\">mad</th>\n",
       "      <th colspan=\"2\" halign=\"left\">std</th>\n",
       "      <th colspan=\"2\" halign=\"left\">var</th>\n",
       "    </tr>\n",
       "    <tr>\n",
       "      <th>Sexo</th>\n",
       "      <th>Masculino</th>\n",
       "      <th>Feminino</th>\n",
       "      <th>Masculino</th>\n",
       "      <th>Feminino</th>\n",
       "      <th>Masculino</th>\n",
       "      <th>Feminino</th>\n",
       "    </tr>\n",
       "    <tr>\n",
       "      <th>Cor</th>\n",
       "      <th></th>\n",
       "      <th></th>\n",
       "      <th></th>\n",
       "      <th></th>\n",
       "      <th></th>\n",
       "      <th></th>\n",
       "    </tr>\n",
       "  </thead>\n",
       "  <tbody>\n",
       "    <tr>\n",
       "      <th>Indígena</th>\n",
       "      <td>798.910889</td>\n",
       "      <td>3007.892952</td>\n",
       "      <td>1204.093490</td>\n",
       "      <td>11957.498292</td>\n",
       "      <td>1.449841e+06</td>\n",
       "      <td>1.429818e+08</td>\n",
       "    </tr>\n",
       "    <tr>\n",
       "      <th>Branca</th>\n",
       "      <td>2261.012346</td>\n",
       "      <td>1670.967106</td>\n",
       "      <td>4750.791872</td>\n",
       "      <td>3251.013154</td>\n",
       "      <td>2.257002e+07</td>\n",
       "      <td>1.056909e+07</td>\n",
       "    </tr>\n",
       "    <tr>\n",
       "      <th>Preta</th>\n",
       "      <td>975.602482</td>\n",
       "      <td>705.453357</td>\n",
       "      <td>1936.309271</td>\n",
       "      <td>1349.799809</td>\n",
       "      <td>3.749294e+06</td>\n",
       "      <td>1.821960e+06</td>\n",
       "    </tr>\n",
       "    <tr>\n",
       "      <th>Amarela</th>\n",
       "      <td>3709.597211</td>\n",
       "      <td>2549.146322</td>\n",
       "      <td>5740.824820</td>\n",
       "      <td>3731.173660</td>\n",
       "      <td>3.295707e+07</td>\n",
       "      <td>1.392166e+07</td>\n",
       "    </tr>\n",
       "    <tr>\n",
       "      <th>Parda</th>\n",
       "      <td>1125.827704</td>\n",
       "      <td>811.580946</td>\n",
       "      <td>2312.087184</td>\n",
       "      <td>1596.233048</td>\n",
       "      <td>5.345747e+06</td>\n",
       "      <td>2.547960e+06</td>\n",
       "    </tr>\n",
       "  </tbody>\n",
       "</table>\n",
       "</div>"
      ],
      "text/plain": [
       "                  mad                       std                         var  \\\n",
       "Sexo        Masculino     Feminino    Masculino      Feminino     Masculino   \n",
       "Cor                                                                           \n",
       "Indígena   798.910889  3007.892952  1204.093490  11957.498292  1.449841e+06   \n",
       "Branca    2261.012346  1670.967106  4750.791872   3251.013154  2.257002e+07   \n",
       "Preta      975.602482   705.453357  1936.309271   1349.799809  3.749294e+06   \n",
       "Amarela   3709.597211  2549.146322  5740.824820   3731.173660  3.295707e+07   \n",
       "Parda     1125.827704   811.580946  2312.087184   1596.233048  5.345747e+06   \n",
       "\n",
       "                        \n",
       "Sexo          Feminino  \n",
       "Cor                     \n",
       "Indígena  1.429818e+08  \n",
       "Branca    1.056909e+07  \n",
       "Preta     1.821960e+06  \n",
       "Amarela   1.392166e+07  \n",
       "Parda     2.547960e+06  "
      ]
     },
     "execution_count": 68,
     "metadata": {},
     "output_type": "execute_result"
    }
   ],
   "source": [
    "renda_disp_sex_cor = pd.crosstab(dados.Cor,dados.Sexo, values = dados.Renda,\n",
    "                        aggfunc = {'mad', 'var', 'std'})\n",
    "renda_disp_sex_cor.rename(index = cor, inplace = True)\n",
    "renda_disp_sex_cor.rename(columns = sexo,  inplace = True)\n",
    "renda_disp_sex_cor"
   ]
  },
  {
   "cell_type": "markdown",
   "metadata": {
    "colab_type": "text",
    "id": "57aHvJMSTg2l"
   },
   "source": [
    "> ### Conclusões\n",
    "\n",
    "Escreva suas conclusões aqui..."
   ]
  },
  {
   "cell_type": "markdown",
   "metadata": {
    "colab_type": "text",
    "id": "QSYjkdyOTg2l"
   },
   "source": [
    "### Construa um box plot da variável RENDA segundo SEXO e COR\n",
    "#### <font color='blue'>É possível verificar algum comportamento diferenciado no rendimento entre os grupos de pessoas analisados? Avalie o gráfico e destaque os pontos mais importantes.</font>\n",
    "#### <font color='red'>1º - Utilize somente as informações de pessoas com renda abaixo de R$ 10.000</font>\n",
    "#### <font color='red'>2º - Para incluir uma terceira variável na construção de um boxplot utilize o parâmetro <i>hue</i> e indique a variável que quer incluir na subdivisão.</font>\n",
    "#### Mais informações: https://seaborn.pydata.org/generated/seaborn.boxplot.html"
   ]
  },
  {
   "cell_type": "code",
   "execution_count": 81,
   "metadata": {
    "colab": {},
    "colab_type": "code",
    "id": "8hGa4SMRTg2m"
   },
   "outputs": [
    {
     "data": {
      "text/plain": [
       "<AxesSubplot:title={'center':'Boxplot - Renda por Sexo e Cor'}, xlabel='R$', ylabel='Cor'>"
      ]
     },
     "execution_count": 81,
     "metadata": {},
     "output_type": "execute_result"
    },
    {
     "data": {
      "image/png": "[encoded data removed]",
      "text/plain": [
       "<Figure size 1008x576 with 1 Axes>"
      ]
     },
     "metadata": {
      "needs_background": "light"
     },
     "output_type": "display_data"
    }
   ],
   "source": [
    "ax = sns.boxplot(x = 'Renda', y = 'Cor', hue = 'Sexo', data = dados.query('Renda < 10000'), orient = 'h')\n",
    "ax.figure.set_size_inches(14,8) #ajustando o tamanho do gráfico\n",
    "ax.set_title('Boxplot - Renda por Sexo e Cor') #Título do gráfico\n",
    "ax.set_xlabel('R$', fontsize = 14)\n",
    "ax.set_ylabel('Cor', fontsize = 14)\n",
    "ax.set_yticklabels(['Indígena', 'Branca', 'Preta', 'Amarela', 'Parda'], fontsize = 12)\n",
    "# Configurações da legenda do gráfico (Sexo)\n",
    "handles, _ = ax.get_legend_handles_labels()\n",
    "ax.legend(handles, ['Masculino','Feminino'], fontsize = 12)\n",
    "ax"
   ]
  },
  {
   "cell_type": "markdown",
   "metadata": {
    "colab_type": "text",
    "id": "ROiIQRFhTg2o"
   },
   "source": [
    "> ### Conclusões\n",
    "\n",
    "Verifica-se uma diferença bastante notável tanto por cor, quanto por sexo. Podemos notar que para a categoria de cor Amarela, a mesma apresenta uma mediana maior para o Sexo Masculino. Fácil notar também que para todas as cores, a mediana do Sexo masculino é superior ao sexo feminino."
   ]
  },
  {
   "cell_type": "markdown",
   "metadata": {
    "colab_type": "text",
    "id": "zi4BaGooTg2o"
   },
   "source": [
    "# <font color=\"red\">DESAFIO<font>\n",
    "### Qual percentual de pessoas de nosso <i>dataset</i> ganham um salário mínimo (R$ 788,00) ou menos?\n",
    "#### <font color='red'>Utilize a função <i>percentileofscore()</i> do <i>scipy</i> para realizar estas análises.</font>\n",
    "#### Mais informações: https://docs.scipy.org/doc/scipy/reference/generated/scipy.stats.percentileofscore.html\n"
   ]
  },
  {
   "cell_type": "code",
   "execution_count": 82,
   "metadata": {
    "colab": {},
    "colab_type": "code",
    "id": "9DwXo2yITg2p"
   },
   "outputs": [
    {
     "name": "stdout",
     "output_type": "stream",
     "text": [
      "28.87%\n"
     ]
    }
   ],
   "source": [
    "from scipy import stats\n",
    "\n",
    "percentual = stats.percentileofscore(dados.Renda, 788, kind = 'weak')\n",
    "print(\"{0:.2f}%\".format(percentual))"
   ]
  },
  {
   "cell_type": "markdown",
   "metadata": {
    "colab_type": "text",
    "id": "bl0fOMuKTg2q"
   },
   "source": [
    "### Qual o valor máximo ganho por 99% das pessoas de nosso <i>dataset</i>?\n",
    "#### <font color='red'>Utilize o método <i>quantile()</i> do <i>pandas</i> para realizar estas análises.</font>"
   ]
  },
  {
   "cell_type": "code",
   "execution_count": 86,
   "metadata": {
    "colab": {},
    "colab_type": "code",
    "id": "cIVwy8bKTg2q"
   },
   "outputs": [
    {
     "name": "stdout",
     "output_type": "stream",
     "text": [
      "R$ 15000.00\n"
     ]
    }
   ],
   "source": [
    "valor = dados.Renda.quantile(.99)\n",
    "print('R$ {0:.2f}'.format(valor))"
   ]
  },
  {
   "cell_type": "markdown",
   "metadata": {
    "colab_type": "text",
    "id": "zeRhvtngTg2r"
   },
   "source": [
    "\n",
    "### Obtenha a média, mediana, valor máximo e desvio-padrão da variável RENDA segundo ANOS DE ESTUDO e SEXO\n",
    "#### <font color='blue'>Destaque os pontos mais importante que você observa nas tabulações</font>\n",
    "#### <font color='red'>O parâmento <i>aggfunc</i> da função <i>crosstab()</i> pode receber uma lista de funções. Exemplo: <i>aggfunc = ['mean', 'median', 'max', 'std']</i></font>"
   ]
  },
  {
   "cell_type": "code",
   "execution_count": 89,
   "metadata": {
    "colab": {},
    "colab_type": "code",
    "id": "8nxGdQIpTg2s"
   },
   "outputs": [
    {
     "data": {
      "text/html": [
       "<div>\n",
       "<style scoped>\n",
       "    .dataframe tbody tr th:only-of-type {\n",
       "        vertical-align: middle;\n",
       "    }\n",
       "\n",
       "    .dataframe tbody tr th {\n",
       "        vertical-align: top;\n",
       "    }\n",
       "\n",
       "    .dataframe thead tr th {\n",
       "        text-align: left;\n",
       "    }\n",
       "\n",
       "    .dataframe thead tr:last-of-type th {\n",
       "        text-align: right;\n",
       "    }\n",
       "</style>\n",
       "<table border=\"1\" class=\"dataframe\">\n",
       "  <thead>\n",
       "    <tr>\n",
       "      <th></th>\n",
       "      <th colspan=\"2\" halign=\"left\">max</th>\n",
       "      <th colspan=\"2\" halign=\"left\">mean</th>\n",
       "      <th colspan=\"2\" halign=\"left\">median</th>\n",
       "      <th colspan=\"2\" halign=\"left\">std</th>\n",
       "    </tr>\n",
       "    <tr>\n",
       "      <th>Sexo</th>\n",
       "      <th>Masculino</th>\n",
       "      <th>Feminino</th>\n",
       "      <th>Masculino</th>\n",
       "      <th>Feminino</th>\n",
       "      <th>Masculino</th>\n",
       "      <th>Feminino</th>\n",
       "      <th>Masculino</th>\n",
       "      <th>Feminino</th>\n",
       "    </tr>\n",
       "    <tr>\n",
       "      <th>Anos de Estudo</th>\n",
       "      <th></th>\n",
       "      <th></th>\n",
       "      <th></th>\n",
       "      <th></th>\n",
       "      <th></th>\n",
       "      <th></th>\n",
       "      <th></th>\n",
       "      <th></th>\n",
       "    </tr>\n",
       "  </thead>\n",
       "  <tbody>\n",
       "    <tr>\n",
       "      <th>Sem instrução e menos de 1 ano</th>\n",
       "      <td>30000.0</td>\n",
       "      <td>10000.0</td>\n",
       "      <td>799.494638</td>\n",
       "      <td>516.201748</td>\n",
       "      <td>700.0</td>\n",
       "      <td>390.0</td>\n",
       "      <td>1023.904884</td>\n",
       "      <td>639.311534</td>\n",
       "    </tr>\n",
       "    <tr>\n",
       "      <th>1 ano</th>\n",
       "      <td>30000.0</td>\n",
       "      <td>2000.0</td>\n",
       "      <td>895.629047</td>\n",
       "      <td>492.771987</td>\n",
       "      <td>788.0</td>\n",
       "      <td>400.0</td>\n",
       "      <td>1331.950552</td>\n",
       "      <td>425.291842</td>\n",
       "    </tr>\n",
       "    <tr>\n",
       "      <th>2 anos</th>\n",
       "      <td>40000.0</td>\n",
       "      <td>4000.0</td>\n",
       "      <td>931.178986</td>\n",
       "      <td>529.911638</td>\n",
       "      <td>788.0</td>\n",
       "      <td>450.0</td>\n",
       "      <td>1435.173827</td>\n",
       "      <td>498.234168</td>\n",
       "    </tr>\n",
       "    <tr>\n",
       "      <th>3 anos</th>\n",
       "      <td>80000.0</td>\n",
       "      <td>3500.0</td>\n",
       "      <td>1109.203862</td>\n",
       "      <td>546.853916</td>\n",
       "      <td>800.0</td>\n",
       "      <td>500.0</td>\n",
       "      <td>2143.800133</td>\n",
       "      <td>424.124446</td>\n",
       "    </tr>\n",
       "    <tr>\n",
       "      <th>4 anos</th>\n",
       "      <td>50000.0</td>\n",
       "      <td>10000.0</td>\n",
       "      <td>1302.329283</td>\n",
       "      <td>704.279111</td>\n",
       "      <td>1000.0</td>\n",
       "      <td>788.0</td>\n",
       "      <td>1419.821787</td>\n",
       "      <td>629.553397</td>\n",
       "    </tr>\n",
       "    <tr>\n",
       "      <th>5 anos</th>\n",
       "      <td>35000.0</td>\n",
       "      <td>8000.0</td>\n",
       "      <td>1338.653218</td>\n",
       "      <td>781.389776</td>\n",
       "      <td>1045.0</td>\n",
       "      <td>788.0</td>\n",
       "      <td>1484.650587</td>\n",
       "      <td>635.782641</td>\n",
       "    </tr>\n",
       "    <tr>\n",
       "      <th>6 anos</th>\n",
       "      <td>25000.0</td>\n",
       "      <td>6000.0</td>\n",
       "      <td>1448.875419</td>\n",
       "      <td>833.732824</td>\n",
       "      <td>1200.0</td>\n",
       "      <td>788.0</td>\n",
       "      <td>1476.628602</td>\n",
       "      <td>574.547028</td>\n",
       "    </tr>\n",
       "    <tr>\n",
       "      <th>7 anos</th>\n",
       "      <td>40000.0</td>\n",
       "      <td>9000.0</td>\n",
       "      <td>1465.497940</td>\n",
       "      <td>830.751004</td>\n",
       "      <td>1200.0</td>\n",
       "      <td>788.0</td>\n",
       "      <td>1419.708673</td>\n",
       "      <td>602.038029</td>\n",
       "    </tr>\n",
       "    <tr>\n",
       "      <th>8 anos</th>\n",
       "      <td>30000.0</td>\n",
       "      <td>18000.0</td>\n",
       "      <td>1639.396667</td>\n",
       "      <td>933.615351</td>\n",
       "      <td>1300.0</td>\n",
       "      <td>800.0</td>\n",
       "      <td>1515.583715</td>\n",
       "      <td>896.781213</td>\n",
       "    </tr>\n",
       "    <tr>\n",
       "      <th>9 anos</th>\n",
       "      <td>60000.0</td>\n",
       "      <td>20000.0</td>\n",
       "      <td>1508.038850</td>\n",
       "      <td>868.021700</td>\n",
       "      <td>1200.0</td>\n",
       "      <td>788.0</td>\n",
       "      <td>2137.664774</td>\n",
       "      <td>973.221652</td>\n",
       "    </tr>\n",
       "    <tr>\n",
       "      <th>10 anos</th>\n",
       "      <td>45000.0</td>\n",
       "      <td>6000.0</td>\n",
       "      <td>1731.270847</td>\n",
       "      <td>925.919225</td>\n",
       "      <td>1218.0</td>\n",
       "      <td>800.0</td>\n",
       "      <td>2078.609734</td>\n",
       "      <td>620.611907</td>\n",
       "    </tr>\n",
       "    <tr>\n",
       "      <th>11 anos</th>\n",
       "      <td>200000.0</td>\n",
       "      <td>100000.0</td>\n",
       "      <td>2117.060504</td>\n",
       "      <td>1286.790889</td>\n",
       "      <td>1500.0</td>\n",
       "      <td>1000.0</td>\n",
       "      <td>2676.538942</td>\n",
       "      <td>1819.040417</td>\n",
       "    </tr>\n",
       "    <tr>\n",
       "      <th>12 anos</th>\n",
       "      <td>30000.0</td>\n",
       "      <td>120000.0</td>\n",
       "      <td>2470.330776</td>\n",
       "      <td>1682.313725</td>\n",
       "      <td>1800.0</td>\n",
       "      <td>1200.0</td>\n",
       "      <td>2268.081538</td>\n",
       "      <td>4851.833513</td>\n",
       "    </tr>\n",
       "    <tr>\n",
       "      <th>13 anos</th>\n",
       "      <td>25000.0</td>\n",
       "      <td>20000.0</td>\n",
       "      <td>3195.099154</td>\n",
       "      <td>1911.730047</td>\n",
       "      <td>2400.0</td>\n",
       "      <td>1300.0</td>\n",
       "      <td>2797.116800</td>\n",
       "      <td>2053.789771</td>\n",
       "    </tr>\n",
       "    <tr>\n",
       "      <th>14 anos</th>\n",
       "      <td>50000.0</td>\n",
       "      <td>20000.0</td>\n",
       "      <td>3706.620269</td>\n",
       "      <td>2226.460457</td>\n",
       "      <td>2500.0</td>\n",
       "      <td>1600.0</td>\n",
       "      <td>3987.214974</td>\n",
       "      <td>2064.083336</td>\n",
       "    </tr>\n",
       "    <tr>\n",
       "      <th>15 anos ou mais</th>\n",
       "      <td>200000.0</td>\n",
       "      <td>100000.0</td>\n",
       "      <td>6134.279790</td>\n",
       "      <td>3899.513231</td>\n",
       "      <td>4000.0</td>\n",
       "      <td>2800.0</td>\n",
       "      <td>7447.613594</td>\n",
       "      <td>4212.770709</td>\n",
       "    </tr>\n",
       "    <tr>\n",
       "      <th>Não determinados</th>\n",
       "      <td>7000.0</td>\n",
       "      <td>3000.0</td>\n",
       "      <td>1295.761905</td>\n",
       "      <td>798.174419</td>\n",
       "      <td>1200.0</td>\n",
       "      <td>788.0</td>\n",
       "      <td>979.648745</td>\n",
       "      <td>459.985964</td>\n",
       "    </tr>\n",
       "  </tbody>\n",
       "</table>\n",
       "</div>"
      ],
      "text/plain": [
       "                                     max                   mean               \\\n",
       "Sexo                           Masculino  Feminino    Masculino     Feminino   \n",
       "Anos de Estudo                                                                 \n",
       "Sem instrução e menos de 1 ano   30000.0   10000.0   799.494638   516.201748   \n",
       "1 ano                            30000.0    2000.0   895.629047   492.771987   \n",
       "2 anos                           40000.0    4000.0   931.178986   529.911638   \n",
       "3 anos                           80000.0    3500.0  1109.203862   546.853916   \n",
       "4 anos                           50000.0   10000.0  1302.329283   704.279111   \n",
       "5 anos                           35000.0    8000.0  1338.653218   781.389776   \n",
       "6 anos                           25000.0    6000.0  1448.875419   833.732824   \n",
       "7 anos                           40000.0    9000.0  1465.497940   830.751004   \n",
       "8 anos                           30000.0   18000.0  1639.396667   933.615351   \n",
       "9 anos                           60000.0   20000.0  1508.038850   868.021700   \n",
       "10 anos                          45000.0    6000.0  1731.270847   925.919225   \n",
       "11 anos                         200000.0  100000.0  2117.060504  1286.790889   \n",
       "12 anos                          30000.0  120000.0  2470.330776  1682.313725   \n",
       "13 anos                          25000.0   20000.0  3195.099154  1911.730047   \n",
       "14 anos                          50000.0   20000.0  3706.620269  2226.460457   \n",
       "15 anos ou mais                 200000.0  100000.0  6134.279790  3899.513231   \n",
       "Não determinados                  7000.0    3000.0  1295.761905   798.174419   \n",
       "\n",
       "                                  median                   std               \n",
       "Sexo                           Masculino Feminino    Masculino     Feminino  \n",
       "Anos de Estudo                                                               \n",
       "Sem instrução e menos de 1 ano     700.0    390.0  1023.904884   639.311534  \n",
       "1 ano                              788.0    400.0  1331.950552   425.291842  \n",
       "2 anos                             788.0    450.0  1435.173827   498.234168  \n",
       "3 anos                             800.0    500.0  2143.800133   424.124446  \n",
       "4 anos                            1000.0    788.0  1419.821787   629.553397  \n",
       "5 anos                            1045.0    788.0  1484.650587   635.782641  \n",
       "6 anos                            1200.0    788.0  1476.628602   574.547028  \n",
       "7 anos                            1200.0    788.0  1419.708673   602.038029  \n",
       "8 anos                            1300.0    800.0  1515.583715   896.781213  \n",
       "9 anos                            1200.0    788.0  2137.664774   973.221652  \n",
       "10 anos                           1218.0    800.0  2078.609734   620.611907  \n",
       "11 anos                           1500.0   1000.0  2676.538942  1819.040417  \n",
       "12 anos                           1800.0   1200.0  2268.081538  4851.833513  \n",
       "13 anos                           2400.0   1300.0  2797.116800  2053.789771  \n",
       "14 anos                           2500.0   1600.0  3987.214974  2064.083336  \n",
       "15 anos ou mais                   4000.0   2800.0  7447.613594  4212.770709  \n",
       "Não determinados                  1200.0    788.0   979.648745   459.985964  "
      ]
     },
     "execution_count": 89,
     "metadata": {},
     "output_type": "execute_result"
    }
   ],
   "source": [
    "renda_sex_anos_estudos = pd.crosstab(dados['Anos de Estudo'], dados.Sexo, values = dados.Renda, aggfunc = {'mean','median','max','std'})\n",
    "renda_sex_anos_estudos.rename(index = anos_de_estudo, inplace = True) #renomeando e substituindo o Index\n",
    "renda_sex_anos_estudos.rename(columns = sexo, inplace = True) #renomeando e substituindo a Coluna Sexo\n",
    "renda_sex_anos_estudos"
   ]
  },
  {
   "cell_type": "markdown",
   "metadata": {
    "colab_type": "text",
    "id": "1Rm1n7a_Tg2u"
   },
   "source": [
    "### Construa um box plot da variável RENDA segundo ANOS DE ESTUDO e SEXO\n",
    "#### <font color='blue'>É possível verificar algum comportamento diferenciado no rendimento entre os grupos de pessoas analisados? Avalie o gráfico e destaque os pontos mais importantes.</font>\n",
    "#### <font color='red'>1º - Utilize somente as informações de pessoas com renda abaixo de R$ 10.000</font>\n",
    "#### <font color='red'>2º - Utilize a variável IDADE para identificar se a desigualdade se verifica para pessoas de mesma idade. Exemplo: <i>data=dados.query('Renda < 10000 and Idade == 40')</i> ou <i>data=dados.query('Renda < 10000 and Idade == 50')</i></font>\n",
    "#### <font color='red'>3º - Para incluir uma terceira variável na construção de um boxplot utilize o parâmetro <i>hue</i> e indique a variável que quer incluir na subdivisão.</font>\n",
    "#### Mais informações: https://seaborn.pydata.org/generated/seaborn.boxplot.html"
   ]
  },
  {
   "cell_type": "code",
   "execution_count": 90,
   "metadata": {
    "colab": {},
    "colab_type": "code",
    "id": "rgMU0WyJTg2v"
   },
   "outputs": [
    {
     "data": {
      "text/plain": [
       "<AxesSubplot:title={'center':'Boxplot - Renda por Sexo e Anos de Estudo'}, xlabel='R$', ylabel='Anos de Estudo'>"
      ]
     },
     "execution_count": 90,
     "metadata": {},
     "output_type": "execute_result"
    },
    {
     "data": {
      "image/png": "[encoded data removed]",
      "text/plain": [
       "<Figure size 1008x576 with 1 Axes>"
      ]
     },
     "metadata": {
      "needs_background": "light"
     },
     "output_type": "display_data"
    }
   ],
   "source": [
    "ax = sns.boxplot(x = 'Renda', y = 'Anos de Estudo', hue = 'Sexo', data = dados.query('Renda < 10000 and Idade == 40'), orient = 'h')\n",
    "ax.figure.set_size_inches(14,8) #ajustando o tamanho do gráfico\n",
    "ax.set_title('Boxplot - Renda por Sexo e Anos de Estudo') #Título do gráfico\n",
    "ax.set_xlabel('R$', fontsize = 14)\n",
    "ax.set_ylabel('Anos de Estudo', fontsize = 14)\n",
    "ax.set_yticklabels([key for key in anos_de_estudo.values()], fontsize = 12)\n",
    "# Configurações da legenda do gráfico (Sexo)\n",
    "handles, _ = ax.get_legend_handles_labels()\n",
    "ax.legend(handles, ['Masculino','Feminino'], fontsize = 12)\n",
    "ax"
   ]
  },
  {
   "cell_type": "code",
   "execution_count": 91,
   "metadata": {},
   "outputs": [
    {
     "data": {
      "text/plain": [
       "<AxesSubplot:title={'center':'Boxplot - Renda por Sexo e Anos de Estudo'}, xlabel='R$', ylabel='Anos de Estudo'>"
      ]
     },
     "execution_count": 91,
     "metadata": {},
     "output_type": "execute_result"
    },
    {
     "data": {
      "image/png": "[encoded data removed]",
      "text/plain": [
       "<Figure size 1008x576 with 1 Axes>"
      ]
     },
     "metadata": {
      "needs_background": "light"
     },
     "output_type": "display_data"
    }
   ],
   "source": [
    "ax = sns.boxplot(x = 'Renda', y = 'Anos de Estudo', hue = 'Sexo', data = dados.query('Renda < 10000 and Idade == 50'), orient = 'h')\n",
    "ax.figure.set_size_inches(14,8) #ajustando o tamanho do gráfico\n",
    "ax.set_title('Boxplot - Renda por Sexo e Anos de Estudo') #Título do gráfico\n",
    "ax.set_xlabel('R$', fontsize = 14)\n",
    "ax.set_ylabel('Anos de Estudo', fontsize = 14)\n",
    "ax.set_yticklabels([key for key in anos_de_estudo.values()], fontsize = 12)\n",
    "# Configurações da legenda do gráfico (Sexo)\n",
    "handles, _ = ax.get_legend_handles_labels()\n",
    "ax.legend(handles, ['Masculino','Feminino'], fontsize = 12)\n",
    "ax"
   ]
  },
  {
   "cell_type": "markdown",
   "metadata": {
    "colab_type": "text",
    "id": "LrEECOmNTg2w"
   },
   "source": [
    "> ### Conclusões\n",
    "\n",
    "Novamente, percebe-se que a renda do Sexo Masculino é superior à renda do sexo Feminino.\n",
    "Além disso, nota-se que, quanto mais anos de estudo, maior a renda. "
   ]
  },
  {
   "cell_type": "markdown",
   "metadata": {
    "colab_type": "text",
    "id": "0fIFSxj8Tg2x"
   },
   "source": [
    "### Obtenha a média, mediana, valor máximo e desvio-padrão da variável RENDA segundo as UNIDADES DA FEDERAÇÃO\n",
    "#### <font color='blue'>Destaque os pontos mais importante que você observa nas tabulações</font>\n",
    "#### <font color='red'>Utilize o método <i>groupby()</i> do <i>pandas</i> juntamente com o método <i>agg()</i> para contruir a tabulação. O método <i>agg()</i> pode receber um dicionário especificando qual coluna do DataFrame deve ser utilizada e qual lista de funções estatísticas queremos obter, por exemplo: <i>dados.groupby(['UF']).agg({'Renda': ['mean', 'median', 'max', 'std']})</i></font>"
   ]
  },
  {
   "cell_type": "code",
   "execution_count": 98,
   "metadata": {},
   "outputs": [
    {
     "data": {
      "text/html": [
       "<div>\n",
       "<style scoped>\n",
       "    .dataframe tbody tr th:only-of-type {\n",
       "        vertical-align: middle;\n",
       "    }\n",
       "\n",
       "    .dataframe tbody tr th {\n",
       "        vertical-align: top;\n",
       "    }\n",
       "\n",
       "    .dataframe thead tr th {\n",
       "        text-align: left;\n",
       "    }\n",
       "\n",
       "    .dataframe thead tr:last-of-type th {\n",
       "        text-align: right;\n",
       "    }\n",
       "</style>\n",
       "<table border=\"1\" class=\"dataframe\">\n",
       "  <thead>\n",
       "    <tr>\n",
       "      <th></th>\n",
       "      <th colspan=\"4\" halign=\"left\">Renda</th>\n",
       "    </tr>\n",
       "    <tr>\n",
       "      <th></th>\n",
       "      <th>mean</th>\n",
       "      <th>median</th>\n",
       "      <th>max</th>\n",
       "      <th>std</th>\n",
       "    </tr>\n",
       "    <tr>\n",
       "      <th>UF</th>\n",
       "      <th></th>\n",
       "      <th></th>\n",
       "      <th></th>\n",
       "      <th></th>\n",
       "    </tr>\n",
       "  </thead>\n",
       "  <tbody>\n",
       "    <tr>\n",
       "      <th>Rondônia</th>\n",
       "      <td>1789.761223</td>\n",
       "      <td>1200.0</td>\n",
       "      <td>50000</td>\n",
       "      <td>2406.161161</td>\n",
       "    </tr>\n",
       "    <tr>\n",
       "      <th>Acre</th>\n",
       "      <td>1506.091782</td>\n",
       "      <td>900.0</td>\n",
       "      <td>30000</td>\n",
       "      <td>2276.233415</td>\n",
       "    </tr>\n",
       "    <tr>\n",
       "      <th>Amazonas</th>\n",
       "      <td>1445.130100</td>\n",
       "      <td>900.0</td>\n",
       "      <td>22000</td>\n",
       "      <td>1757.935591</td>\n",
       "    </tr>\n",
       "    <tr>\n",
       "      <th>Roraima</th>\n",
       "      <td>1783.588889</td>\n",
       "      <td>1000.0</td>\n",
       "      <td>20000</td>\n",
       "      <td>2079.659238</td>\n",
       "    </tr>\n",
       "    <tr>\n",
       "      <th>Pará</th>\n",
       "      <td>1399.076871</td>\n",
       "      <td>850.0</td>\n",
       "      <td>50000</td>\n",
       "      <td>2053.779555</td>\n",
       "    </tr>\n",
       "    <tr>\n",
       "      <th>Amapá</th>\n",
       "      <td>1861.353516</td>\n",
       "      <td>1200.0</td>\n",
       "      <td>15580</td>\n",
       "      <td>2020.688632</td>\n",
       "    </tr>\n",
       "    <tr>\n",
       "      <th>Tocantins</th>\n",
       "      <td>1771.094946</td>\n",
       "      <td>1000.0</td>\n",
       "      <td>60000</td>\n",
       "      <td>2934.590741</td>\n",
       "    </tr>\n",
       "    <tr>\n",
       "      <th>Maranhão</th>\n",
       "      <td>1019.432009</td>\n",
       "      <td>700.0</td>\n",
       "      <td>30000</td>\n",
       "      <td>1887.816905</td>\n",
       "    </tr>\n",
       "    <tr>\n",
       "      <th>Piauí</th>\n",
       "      <td>1074.550784</td>\n",
       "      <td>750.0</td>\n",
       "      <td>40000</td>\n",
       "      <td>2373.355726</td>\n",
       "    </tr>\n",
       "    <tr>\n",
       "      <th>Ceará</th>\n",
       "      <td>1255.403692</td>\n",
       "      <td>789.0</td>\n",
       "      <td>25000</td>\n",
       "      <td>1821.963536</td>\n",
       "    </tr>\n",
       "    <tr>\n",
       "      <th>Rio Grande do Norte</th>\n",
       "      <td>1344.721480</td>\n",
       "      <td>800.0</td>\n",
       "      <td>15500</td>\n",
       "      <td>1651.805500</td>\n",
       "    </tr>\n",
       "    <tr>\n",
       "      <th>Paraíba</th>\n",
       "      <td>1293.370487</td>\n",
       "      <td>788.0</td>\n",
       "      <td>30000</td>\n",
       "      <td>1950.272431</td>\n",
       "    </tr>\n",
       "    <tr>\n",
       "      <th>Pernambuco</th>\n",
       "      <td>1527.079319</td>\n",
       "      <td>900.0</td>\n",
       "      <td>50000</td>\n",
       "      <td>2389.622497</td>\n",
       "    </tr>\n",
       "    <tr>\n",
       "      <th>Alagoas</th>\n",
       "      <td>1144.552602</td>\n",
       "      <td>788.0</td>\n",
       "      <td>11000</td>\n",
       "      <td>1237.856197</td>\n",
       "    </tr>\n",
       "    <tr>\n",
       "      <th>Sergipe</th>\n",
       "      <td>1109.111111</td>\n",
       "      <td>788.0</td>\n",
       "      <td>16000</td>\n",
       "      <td>1478.997878</td>\n",
       "    </tr>\n",
       "    <tr>\n",
       "      <th>Bahia</th>\n",
       "      <td>1429.645094</td>\n",
       "      <td>800.0</td>\n",
       "      <td>200000</td>\n",
       "      <td>3507.917248</td>\n",
       "    </tr>\n",
       "    <tr>\n",
       "      <th>Minas Gerais</th>\n",
       "      <td>2056.432084</td>\n",
       "      <td>1200.0</td>\n",
       "      <td>100000</td>\n",
       "      <td>3584.721547</td>\n",
       "    </tr>\n",
       "    <tr>\n",
       "      <th>Espírito Santo</th>\n",
       "      <td>2026.383852</td>\n",
       "      <td>1274.0</td>\n",
       "      <td>100000</td>\n",
       "      <td>3513.846868</td>\n",
       "    </tr>\n",
       "    <tr>\n",
       "      <th>Rio de Janeiro</th>\n",
       "      <td>2496.403168</td>\n",
       "      <td>1400.0</td>\n",
       "      <td>200000</td>\n",
       "      <td>5214.583518</td>\n",
       "    </tr>\n",
       "    <tr>\n",
       "      <th>São Paulo</th>\n",
       "      <td>2638.104986</td>\n",
       "      <td>1600.0</td>\n",
       "      <td>80000</td>\n",
       "      <td>3503.777366</td>\n",
       "    </tr>\n",
       "    <tr>\n",
       "      <th>Paraná</th>\n",
       "      <td>2493.870753</td>\n",
       "      <td>1500.0</td>\n",
       "      <td>200000</td>\n",
       "      <td>4302.937995</td>\n",
       "    </tr>\n",
       "    <tr>\n",
       "      <th>Santa Catarina</th>\n",
       "      <td>2470.854945</td>\n",
       "      <td>1800.0</td>\n",
       "      <td>80000</td>\n",
       "      <td>3137.651112</td>\n",
       "    </tr>\n",
       "    <tr>\n",
       "      <th>Rio Grande do Sul</th>\n",
       "      <td>2315.158336</td>\n",
       "      <td>1500.0</td>\n",
       "      <td>35000</td>\n",
       "      <td>2913.335783</td>\n",
       "    </tr>\n",
       "    <tr>\n",
       "      <th>Mato Grosso do Sul</th>\n",
       "      <td>2262.604167</td>\n",
       "      <td>1500.0</td>\n",
       "      <td>42000</td>\n",
       "      <td>3031.419122</td>\n",
       "    </tr>\n",
       "    <tr>\n",
       "      <th>Mato Grosso</th>\n",
       "      <td>2130.652778</td>\n",
       "      <td>1500.0</td>\n",
       "      <td>35000</td>\n",
       "      <td>2542.630178</td>\n",
       "    </tr>\n",
       "    <tr>\n",
       "      <th>Goiás</th>\n",
       "      <td>1994.580794</td>\n",
       "      <td>1500.0</td>\n",
       "      <td>30000</td>\n",
       "      <td>2221.933065</td>\n",
       "    </tr>\n",
       "    <tr>\n",
       "      <th>Distrito Federal</th>\n",
       "      <td>4241.954722</td>\n",
       "      <td>2000.0</td>\n",
       "      <td>100000</td>\n",
       "      <td>5550.463338</td>\n",
       "    </tr>\n",
       "  </tbody>\n",
       "</table>\n",
       "</div>"
      ],
      "text/plain": [
       "                           Renda                             \n",
       "                            mean  median     max          std\n",
       "UF                                                           \n",
       "Rondônia             1789.761223  1200.0   50000  2406.161161\n",
       "Acre                 1506.091782   900.0   30000  2276.233415\n",
       "Amazonas             1445.130100   900.0   22000  1757.935591\n",
       "Roraima              1783.588889  1000.0   20000  2079.659238\n",
       "Pará                 1399.076871   850.0   50000  2053.779555\n",
       "Amapá                1861.353516  1200.0   15580  2020.688632\n",
       "Tocantins            1771.094946  1000.0   60000  2934.590741\n",
       "Maranhão             1019.432009   700.0   30000  1887.816905\n",
       "Piauí                1074.550784   750.0   40000  2373.355726\n",
       "Ceará                1255.403692   789.0   25000  1821.963536\n",
       "Rio Grande do Norte  1344.721480   800.0   15500  1651.805500\n",
       "Paraíba              1293.370487   788.0   30000  1950.272431\n",
       "Pernambuco           1527.079319   900.0   50000  2389.622497\n",
       "Alagoas              1144.552602   788.0   11000  1237.856197\n",
       "Sergipe              1109.111111   788.0   16000  1478.997878\n",
       "Bahia                1429.645094   800.0  200000  3507.917248\n",
       "Minas Gerais         2056.432084  1200.0  100000  3584.721547\n",
       "Espírito Santo       2026.383852  1274.0  100000  3513.846868\n",
       "Rio de Janeiro       2496.403168  1400.0  200000  5214.583518\n",
       "São Paulo            2638.104986  1600.0   80000  3503.777366\n",
       "Paraná               2493.870753  1500.0  200000  4302.937995\n",
       "Santa Catarina       2470.854945  1800.0   80000  3137.651112\n",
       "Rio Grande do Sul    2315.158336  1500.0   35000  2913.335783\n",
       "Mato Grosso do Sul   2262.604167  1500.0   42000  3031.419122\n",
       "Mato Grosso          2130.652778  1500.0   35000  2542.630178\n",
       "Goiás                1994.580794  1500.0   30000  2221.933065\n",
       "Distrito Federal     4241.954722  2000.0  100000  5550.463338"
      ]
     },
     "execution_count": 98,
     "metadata": {},
     "output_type": "execute_result"
    }
   ],
   "source": [
    "renda_uf = dados.groupby(['UF']).agg({'Renda': ['mean','median','max','std']})\n",
    "renda_uf.rename(index = uf, inplace = True)\n",
    "renda_uf"
   ]
  },
  {
   "cell_type": "code",
   "execution_count": 99,
   "metadata": {
    "colab": {},
    "colab_type": "code",
    "id": "91IxQFJoTg2x"
   },
   "outputs": [
    {
     "data": {
      "text/html": [
       "<div>\n",
       "<style scoped>\n",
       "    .dataframe tbody tr th:only-of-type {\n",
       "        vertical-align: middle;\n",
       "    }\n",
       "\n",
       "    .dataframe tbody tr th {\n",
       "        vertical-align: top;\n",
       "    }\n",
       "\n",
       "    .dataframe thead tr th {\n",
       "        text-align: left;\n",
       "    }\n",
       "\n",
       "    .dataframe thead tr:last-of-type th {\n",
       "        text-align: right;\n",
       "    }\n",
       "</style>\n",
       "<table border=\"1\" class=\"dataframe\">\n",
       "  <thead>\n",
       "    <tr>\n",
       "      <th></th>\n",
       "      <th colspan=\"2\" halign=\"left\">max</th>\n",
       "      <th colspan=\"2\" halign=\"left\">mean</th>\n",
       "      <th colspan=\"2\" halign=\"left\">median</th>\n",
       "      <th colspan=\"2\" halign=\"left\">std</th>\n",
       "    </tr>\n",
       "    <tr>\n",
       "      <th>Sexo</th>\n",
       "      <th>Masculino</th>\n",
       "      <th>Feminino</th>\n",
       "      <th>Masculino</th>\n",
       "      <th>Feminino</th>\n",
       "      <th>Masculino</th>\n",
       "      <th>Feminino</th>\n",
       "      <th>Masculino</th>\n",
       "      <th>Feminino</th>\n",
       "    </tr>\n",
       "    <tr>\n",
       "      <th>UF</th>\n",
       "      <th></th>\n",
       "      <th></th>\n",
       "      <th></th>\n",
       "      <th></th>\n",
       "      <th></th>\n",
       "      <th></th>\n",
       "      <th></th>\n",
       "      <th></th>\n",
       "    </tr>\n",
       "  </thead>\n",
       "  <tbody>\n",
       "    <tr>\n",
       "      <th>Rondônia</th>\n",
       "      <td>50000.0</td>\n",
       "      <td>12500.0</td>\n",
       "      <td>1921.209139</td>\n",
       "      <td>1414.854637</td>\n",
       "      <td>1300.0</td>\n",
       "      <td>1000.0</td>\n",
       "      <td>2644.124716</td>\n",
       "      <td>1476.688370</td>\n",
       "    </tr>\n",
       "    <tr>\n",
       "      <th>Acre</th>\n",
       "      <td>30000.0</td>\n",
       "      <td>15000.0</td>\n",
       "      <td>1635.342407</td>\n",
       "      <td>1128.615063</td>\n",
       "      <td>1000.0</td>\n",
       "      <td>788.0</td>\n",
       "      <td>2493.549324</td>\n",
       "      <td>1405.459802</td>\n",
       "    </tr>\n",
       "    <tr>\n",
       "      <th>Amazonas</th>\n",
       "      <td>22000.0</td>\n",
       "      <td>15000.0</td>\n",
       "      <td>1539.989460</td>\n",
       "      <td>1235.832849</td>\n",
       "      <td>1000.0</td>\n",
       "      <td>800.0</td>\n",
       "      <td>1878.401328</td>\n",
       "      <td>1436.591274</td>\n",
       "    </tr>\n",
       "    <tr>\n",
       "      <th>Roraima</th>\n",
       "      <td>20000.0</td>\n",
       "      <td>18000.0</td>\n",
       "      <td>1875.788136</td>\n",
       "      <td>1608.112903</td>\n",
       "      <td>1125.0</td>\n",
       "      <td>875.0</td>\n",
       "      <td>2138.133218</td>\n",
       "      <td>1957.175909</td>\n",
       "    </tr>\n",
       "    <tr>\n",
       "      <th>Pará</th>\n",
       "      <td>50000.0</td>\n",
       "      <td>16000.0</td>\n",
       "      <td>1509.741894</td>\n",
       "      <td>1131.884114</td>\n",
       "      <td>980.0</td>\n",
       "      <td>788.0</td>\n",
       "      <td>2209.084120</td>\n",
       "      <td>1587.778044</td>\n",
       "    </tr>\n",
       "    <tr>\n",
       "      <th>Amapá</th>\n",
       "      <td>15000.0</td>\n",
       "      <td>15580.0</td>\n",
       "      <td>1930.396970</td>\n",
       "      <td>1736.164835</td>\n",
       "      <td>1337.5</td>\n",
       "      <td>920.0</td>\n",
       "      <td>1984.400879</td>\n",
       "      <td>2084.577964</td>\n",
       "    </tr>\n",
       "    <tr>\n",
       "      <th>Tocantins</th>\n",
       "      <td>60000.0</td>\n",
       "      <td>9000.0</td>\n",
       "      <td>1912.509395</td>\n",
       "      <td>1381.798851</td>\n",
       "      <td>1100.0</td>\n",
       "      <td>788.0</td>\n",
       "      <td>3291.585681</td>\n",
       "      <td>1516.365583</td>\n",
       "    </tr>\n",
       "    <tr>\n",
       "      <th>Maranhão</th>\n",
       "      <td>30000.0</td>\n",
       "      <td>8500.0</td>\n",
       "      <td>1165.172097</td>\n",
       "      <td>723.752542</td>\n",
       "      <td>788.0</td>\n",
       "      <td>480.0</td>\n",
       "      <td>2186.972819</td>\n",
       "      <td>981.791872</td>\n",
       "    </tr>\n",
       "    <tr>\n",
       "      <th>Piauí</th>\n",
       "      <td>40000.0</td>\n",
       "      <td>30000.0</td>\n",
       "      <td>1146.710618</td>\n",
       "      <td>899.858757</td>\n",
       "      <td>788.0</td>\n",
       "      <td>600.0</td>\n",
       "      <td>2485.364779</td>\n",
       "      <td>2070.225245</td>\n",
       "    </tr>\n",
       "    <tr>\n",
       "      <th>Ceará</th>\n",
       "      <td>25000.0</td>\n",
       "      <td>24000.0</td>\n",
       "      <td>1341.616974</td>\n",
       "      <td>1085.795053</td>\n",
       "      <td>800.0</td>\n",
       "      <td>788.0</td>\n",
       "      <td>1842.209640</td>\n",
       "      <td>1770.042112</td>\n",
       "    </tr>\n",
       "    <tr>\n",
       "      <th>Rio Grande do Norte</th>\n",
       "      <td>15500.0</td>\n",
       "      <td>12000.0</td>\n",
       "      <td>1459.050074</td>\n",
       "      <td>1080.676871</td>\n",
       "      <td>820.0</td>\n",
       "      <td>788.0</td>\n",
       "      <td>1764.856377</td>\n",
       "      <td>1320.503692</td>\n",
       "    </tr>\n",
       "    <tr>\n",
       "      <th>Paraíba</th>\n",
       "      <td>30000.0</td>\n",
       "      <td>12200.0</td>\n",
       "      <td>1364.993348</td>\n",
       "      <td>1119.704301</td>\n",
       "      <td>800.0</td>\n",
       "      <td>788.0</td>\n",
       "      <td>2030.736711</td>\n",
       "      <td>1730.075019</td>\n",
       "    </tr>\n",
       "    <tr>\n",
       "      <th>Pernambuco</th>\n",
       "      <td>50000.0</td>\n",
       "      <td>30000.0</td>\n",
       "      <td>1664.931211</td>\n",
       "      <td>1252.239812</td>\n",
       "      <td>1000.0</td>\n",
       "      <td>788.0</td>\n",
       "      <td>2565.958125</td>\n",
       "      <td>1964.272952</td>\n",
       "    </tr>\n",
       "    <tr>\n",
       "      <th>Alagoas</th>\n",
       "      <td>10000.0</td>\n",
       "      <td>11000.0</td>\n",
       "      <td>1157.752593</td>\n",
       "      <td>1105.473684</td>\n",
       "      <td>788.0</td>\n",
       "      <td>788.0</td>\n",
       "      <td>1250.908760</td>\n",
       "      <td>1200.222301</td>\n",
       "    </tr>\n",
       "    <tr>\n",
       "      <th>Sergipe</th>\n",
       "      <td>16000.0</td>\n",
       "      <td>10000.0</td>\n",
       "      <td>1205.569857</td>\n",
       "      <td>877.150794</td>\n",
       "      <td>800.0</td>\n",
       "      <td>665.0</td>\n",
       "      <td>1591.037351</td>\n",
       "      <td>1135.085356</td>\n",
       "    </tr>\n",
       "    <tr>\n",
       "      <th>Bahia</th>\n",
       "      <td>200000.0</td>\n",
       "      <td>30000.0</td>\n",
       "      <td>1557.495271</td>\n",
       "      <td>1175.015175</td>\n",
       "      <td>900.0</td>\n",
       "      <td>788.0</td>\n",
       "      <td>4070.040921</td>\n",
       "      <td>1930.916466</td>\n",
       "    </tr>\n",
       "    <tr>\n",
       "      <th>Minas Gerais</th>\n",
       "      <td>100000.0</td>\n",
       "      <td>30000.0</td>\n",
       "      <td>2283.158288</td>\n",
       "      <td>1489.616576</td>\n",
       "      <td>1400.0</td>\n",
       "      <td>900.0</td>\n",
       "      <td>3952.088549</td>\n",
       "      <td>2341.421743</td>\n",
       "    </tr>\n",
       "    <tr>\n",
       "      <th>Espírito Santo</th>\n",
       "      <td>40000.0</td>\n",
       "      <td>100000.0</td>\n",
       "      <td>2129.324226</td>\n",
       "      <td>1752.707022</td>\n",
       "      <td>1500.0</td>\n",
       "      <td>927.0</td>\n",
       "      <td>2637.156594</td>\n",
       "      <td>5160.621957</td>\n",
       "    </tr>\n",
       "    <tr>\n",
       "      <th>Rio de Janeiro</th>\n",
       "      <td>200000.0</td>\n",
       "      <td>120000.0</td>\n",
       "      <td>2777.552792</td>\n",
       "      <td>1971.532508</td>\n",
       "      <td>1510.0</td>\n",
       "      <td>1040.5</td>\n",
       "      <td>5562.918613</td>\n",
       "      <td>4446.614757</td>\n",
       "    </tr>\n",
       "    <tr>\n",
       "      <th>São Paulo</th>\n",
       "      <td>80000.0</td>\n",
       "      <td>50000.0</td>\n",
       "      <td>2947.742872</td>\n",
       "      <td>1950.176471</td>\n",
       "      <td>1820.0</td>\n",
       "      <td>1200.0</td>\n",
       "      <td>3748.021844</td>\n",
       "      <td>2767.421405</td>\n",
       "    </tr>\n",
       "    <tr>\n",
       "      <th>Paraná</th>\n",
       "      <td>200000.0</td>\n",
       "      <td>25000.0</td>\n",
       "      <td>2767.429211</td>\n",
       "      <td>1796.263244</td>\n",
       "      <td>1800.0</td>\n",
       "      <td>1200.0</td>\n",
       "      <td>4850.756071</td>\n",
       "      <td>2249.056098</td>\n",
       "    </tr>\n",
       "    <tr>\n",
       "      <th>Santa Catarina</th>\n",
       "      <td>80000.0</td>\n",
       "      <td>13000.0</td>\n",
       "      <td>2688.304121</td>\n",
       "      <td>1792.114130</td>\n",
       "      <td>2000.0</td>\n",
       "      <td>1283.5</td>\n",
       "      <td>3447.896091</td>\n",
       "      <td>1693.541576</td>\n",
       "    </tr>\n",
       "    <tr>\n",
       "      <th>Rio Grande do Sul</th>\n",
       "      <td>35000.0</td>\n",
       "      <td>25000.0</td>\n",
       "      <td>2488.392840</td>\n",
       "      <td>1960.845376</td>\n",
       "      <td>1600.0</td>\n",
       "      <td>1200.0</td>\n",
       "      <td>3049.801331</td>\n",
       "      <td>2576.786100</td>\n",
       "    </tr>\n",
       "    <tr>\n",
       "      <th>Mato Grosso do Sul</th>\n",
       "      <td>42000.0</td>\n",
       "      <td>25000.0</td>\n",
       "      <td>2603.484296</td>\n",
       "      <td>1519.891832</td>\n",
       "      <td>1600.0</td>\n",
       "      <td>988.0</td>\n",
       "      <td>3324.348704</td>\n",
       "      <td>2083.725272</td>\n",
       "    </tr>\n",
       "    <tr>\n",
       "      <th>Mato Grosso</th>\n",
       "      <td>35000.0</td>\n",
       "      <td>20000.0</td>\n",
       "      <td>2335.347994</td>\n",
       "      <td>1604.293651</td>\n",
       "      <td>1576.0</td>\n",
       "      <td>1000.0</td>\n",
       "      <td>2760.465729</td>\n",
       "      <td>1765.822300</td>\n",
       "    </tr>\n",
       "    <tr>\n",
       "      <th>Goiás</th>\n",
       "      <td>30000.0</td>\n",
       "      <td>26000.0</td>\n",
       "      <td>2222.632558</td>\n",
       "      <td>1339.376392</td>\n",
       "      <td>1500.0</td>\n",
       "      <td>900.0</td>\n",
       "      <td>2382.046659</td>\n",
       "      <td>1497.896843</td>\n",
       "    </tr>\n",
       "    <tr>\n",
       "      <th>Distrito Federal</th>\n",
       "      <td>100000.0</td>\n",
       "      <td>30000.0</td>\n",
       "      <td>4863.366321</td>\n",
       "      <td>3269.883895</td>\n",
       "      <td>2500.0</td>\n",
       "      <td>1500.0</td>\n",
       "      <td>6243.910465</td>\n",
       "      <td>4061.459901</td>\n",
       "    </tr>\n",
       "  </tbody>\n",
       "</table>\n",
       "</div>"
      ],
      "text/plain": [
       "                          max                   mean                 median  \\\n",
       "Sexo                Masculino  Feminino    Masculino     Feminino Masculino   \n",
       "UF                                                                            \n",
       "Rondônia              50000.0   12500.0  1921.209139  1414.854637    1300.0   \n",
       "Acre                  30000.0   15000.0  1635.342407  1128.615063    1000.0   \n",
       "Amazonas              22000.0   15000.0  1539.989460  1235.832849    1000.0   \n",
       "Roraima               20000.0   18000.0  1875.788136  1608.112903    1125.0   \n",
       "Pará                  50000.0   16000.0  1509.741894  1131.884114     980.0   \n",
       "Amapá                 15000.0   15580.0  1930.396970  1736.164835    1337.5   \n",
       "Tocantins             60000.0    9000.0  1912.509395  1381.798851    1100.0   \n",
       "Maranhão              30000.0    8500.0  1165.172097   723.752542     788.0   \n",
       "Piauí                 40000.0   30000.0  1146.710618   899.858757     788.0   \n",
       "Ceará                 25000.0   24000.0  1341.616974  1085.795053     800.0   \n",
       "Rio Grande do Norte   15500.0   12000.0  1459.050074  1080.676871     820.0   \n",
       "Paraíba               30000.0   12200.0  1364.993348  1119.704301     800.0   \n",
       "Pernambuco            50000.0   30000.0  1664.931211  1252.239812    1000.0   \n",
       "Alagoas               10000.0   11000.0  1157.752593  1105.473684     788.0   \n",
       "Sergipe               16000.0   10000.0  1205.569857   877.150794     800.0   \n",
       "Bahia                200000.0   30000.0  1557.495271  1175.015175     900.0   \n",
       "Minas Gerais         100000.0   30000.0  2283.158288  1489.616576    1400.0   \n",
       "Espírito Santo        40000.0  100000.0  2129.324226  1752.707022    1500.0   \n",
       "Rio de Janeiro       200000.0  120000.0  2777.552792  1971.532508    1510.0   \n",
       "São Paulo             80000.0   50000.0  2947.742872  1950.176471    1820.0   \n",
       "Paraná               200000.0   25000.0  2767.429211  1796.263244    1800.0   \n",
       "Santa Catarina        80000.0   13000.0  2688.304121  1792.114130    2000.0   \n",
       "Rio Grande do Sul     35000.0   25000.0  2488.392840  1960.845376    1600.0   \n",
       "Mato Grosso do Sul    42000.0   25000.0  2603.484296  1519.891832    1600.0   \n",
       "Mato Grosso           35000.0   20000.0  2335.347994  1604.293651    1576.0   \n",
       "Goiás                 30000.0   26000.0  2222.632558  1339.376392    1500.0   \n",
       "Distrito Federal     100000.0   30000.0  4863.366321  3269.883895    2500.0   \n",
       "\n",
       "                                      std               \n",
       "Sexo                Feminino    Masculino     Feminino  \n",
       "UF                                                      \n",
       "Rondônia              1000.0  2644.124716  1476.688370  \n",
       "Acre                   788.0  2493.549324  1405.459802  \n",
       "Amazonas               800.0  1878.401328  1436.591274  \n",
       "Roraima                875.0  2138.133218  1957.175909  \n",
       "Pará                   788.0  2209.084120  1587.778044  \n",
       "Amapá                  920.0  1984.400879  2084.577964  \n",
       "Tocantins              788.0  3291.585681  1516.365583  \n",
       "Maranhão               480.0  2186.972819   981.791872  \n",
       "Piauí                  600.0  2485.364779  2070.225245  \n",
       "Ceará                  788.0  1842.209640  1770.042112  \n",
       "Rio Grande do Norte    788.0  1764.856377  1320.503692  \n",
       "Paraíba                788.0  2030.736711  1730.075019  \n",
       "Pernambuco             788.0  2565.958125  1964.272952  \n",
       "Alagoas                788.0  1250.908760  1200.222301  \n",
       "Sergipe                665.0  1591.037351  1135.085356  \n",
       "Bahia                  788.0  4070.040921  1930.916466  \n",
       "Minas Gerais           900.0  3952.088549  2341.421743  \n",
       "Espírito Santo         927.0  2637.156594  5160.621957  \n",
       "Rio de Janeiro        1040.5  5562.918613  4446.614757  \n",
       "São Paulo             1200.0  3748.021844  2767.421405  \n",
       "Paraná                1200.0  4850.756071  2249.056098  \n",
       "Santa Catarina        1283.5  3447.896091  1693.541576  \n",
       "Rio Grande do Sul     1200.0  3049.801331  2576.786100  \n",
       "Mato Grosso do Sul     988.0  3324.348704  2083.725272  \n",
       "Mato Grosso           1000.0  2760.465729  1765.822300  \n",
       "Goiás                  900.0  2382.046659  1497.896843  \n",
       "Distrito Federal      1500.0  6243.910465  4061.459901  "
      ]
     },
     "execution_count": 99,
     "metadata": {},
     "output_type": "execute_result"
    }
   ],
   "source": [
    "#Separando a Renda por UF pelo Sexo, através do método Crosstab\n",
    "\n",
    "renda_uf_sexo = pd.crosstab(dados['UF'], dados.Sexo, values = dados.Renda, aggfunc = {'mean','median','max','std'})\n",
    "renda_uf_sexo.rename(index = uf, inplace = True) #renomeando e substituindo o Index\n",
    "renda_uf_sexo.rename(columns = sexo, inplace = True) #renomeando e substituindo a Coluna Sexo\n",
    "renda_uf_sexo"
   ]
  },
  {
   "cell_type": "markdown",
   "metadata": {
    "colab_type": "text",
    "id": "6NfAKimkTg2y"
   },
   "source": [
    "### Construa um box plot da variável RENDA segundo as UNIDADES DA FEDERAÇÃO\n",
    "#### <font color='blue'>É possível verificar algum comportamento diferenciado no rendimento entre os grupos analisados? Avalie o gráfico e destaque os pontos mais importantes.</font>\n",
    "#### <font color='red'>1º - Utilize somente as informações de pessoas com renda abaixo de R$ 10.000</font>"
   ]
  },
  {
   "cell_type": "code",
   "execution_count": 112,
   "metadata": {
    "colab": {},
    "colab_type": "code",
    "id": "XdEGG3blTg2z"
   },
   "outputs": [
    {
     "data": {
      "text/plain": [
       "<AxesSubplot:title={'center':'Boxplot - Renda por UF'}, xlabel='R$', ylabel='UF'>"
      ]
     },
     "execution_count": 112,
     "metadata": {},
     "output_type": "execute_result"
    },
    {
     "data": {
      "image/png": "[encoded data removed]",
      "text/plain": [
       "<Figure size 1008x576 with 1 Axes>"
      ]
     },
     "metadata": {
      "needs_background": "light"
     },
     "output_type": "display_data"
    }
   ],
   "source": [
    "ax = sns.boxplot(x = 'Renda', y = 'UF', data = dados.query('Renda < 10000'), orient = 'h')\n",
    "\n",
    "ax.figure.set_size_inches(14,8) #ajustando o tamanho do gráfico\n",
    "ax.set_title('Boxplot - Renda por UF') #Título do gráfico\n",
    "ax.set_xlabel('R$', fontsize = 14) #Configurando o eixo x\n",
    "ax.set_ylabel('UF', fontsize = 14) #configurando o eixo y\n",
    "ax.set_yticklabels([key for key in uf.values()], fontsize = 12) #Renomeando as categorias do eixo y\n",
    "\n",
    "ax"
   ]
  },
  {
   "cell_type": "markdown",
   "metadata": {
    "colab_type": "text",
    "id": "7ssOt3MRTg22"
   },
   "source": [
    "> ### Conclusões\n",
    "\n",
    "Verifica-se que para as regiões centro-sul possuem maior renda."
   ]
  },
  {
   "cell_type": "code",
   "execution_count": null,
   "metadata": {},
   "outputs": [],
   "source": []
  }
 ],
 "metadata": {
  "colab": {
   "name": "Análise_Descritiva.ipynb",
   "provenance": [],
   "toc_visible": true,
   "version": "0.3.2"
  },
  "kernelspec": {
   "display_name": "Python 3 (ipykernel)",
   "language": "python",
   "name": "python3"
  },
  "language_info": {
   "codemirror_mode": {
    "name": "ipython",
    "version": 3
   },
   "file_extension": ".py",
   "mimetype": "text/x-python",
   "name": "python",
   "nbconvert_exporter": "python",
   "pygments_lexer": "ipython3",
   "version": "3.9.1"
  }
 },
 "nbformat": 4,
 "nbformat_minor": 4
}
